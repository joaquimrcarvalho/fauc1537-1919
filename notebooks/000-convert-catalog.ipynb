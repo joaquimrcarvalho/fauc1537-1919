{
 "cells": [
  {
   "cell_type": "markdown",
   "metadata": {},
   "source": [
    "# _Converting the \"Ficheiro de alunos\"_\n",
    "# Conversão do  \"Ficheiro de Alunos\" "
   ]
  },
  {
   "cell_type": "markdown",
   "metadata": {},
   "source": [
    "> _First time use of the `notebooks`: follow instructions in the `README.md` file in this directory._\n",
    "  \n",
    "> Antes de utilizar pela primeira vez os `notebooks`: seguir as instruções no ficheiro `README.md` nesta directoria."
   ]
  },
  {
   "cell_type": "markdown",
   "metadata": {},
   "source": [
    "_This `notebook` processes a file exported from the \"Ficheiro de alunos\" in `CSV` format (command separated values), \n",
    "converting it in `Kleio` source files or importing directly into a `Timelink` database._\n",
    "\n",
    "* _For detailed information on the contents of the `CSV` file and the processing methodolgy see `README_ucalumni.md`._\n",
    "* _For information on the `Kleio` format see `README_kleio.md`._\n",
    "* _For the structure of the `Timelink` database see `README_timelink_db.md`._\n",
    "\n",
    "Este `notebook` processa um ficheiro de exportação do \"Ficheiros de alunos\" em formato `CSV` (comma separated values),\n",
    "  convertendo-o em ficheiros de formato `Kleio` ou preenchendo diretamente uma base de dados `Timelink`. \n",
    "\n",
    "* Para informação detalhada sobre conteúdo do ficheiro `CSV` e a metodologia de processamento ver o ficheiro `README_ucalumni.md` neste directório.\n",
    "* Para informação sobre o formato `Kleio` ver `README_kleio.md`. \n",
    "* Para informação sobre a estrutura da base de dados `Timelink` ver `README_timelink_db.md`.\n",
    "\n",
    "_The convertion process can be starte from a terminal window or directly from within this `notebook`._\n",
    "\n",
    "A conversão pode ser desencadeada a partir de um terminal ou dentro deste `notebook`. "
   ]
  },
  {
   "cell_type": "markdown",
   "metadata": {},
   "source": [
    "\n",
    "## _Converting from a terminal window_\n",
    "## Converter a partir do terminal\n",
    "\n",
    "\n",
    "_Use the utility `import-alumni.py`, from whithin the repository top level directory `ucprosop`._\n",
    "\n",
    "Usar o utilitário `import-alumni.py`, a partir da directoria raiz do repositório `ucprosop`.\n",
    "\n",
    "### _Getting help for the `import-alumni.py` utility_ \n",
    "### Obtendo ajuda para o utilitário `import-alumni.py`. \n",
    "\n",
    "      \n",
    "  python notebooks/import-alumni.py --help\n",
    "\n",
    "\n",
    ">>>\n",
    "\n",
    "      Usage: import-alumni.py [OPTIONS] CSV_FILE DEST_DIR\n",
    "\n",
    "        Generate kleio source files for alumni records exported from AUC catalog\n",
    "        (Archeevo)\n",
    "\n",
    "      Arguments:\n",
    "        CSV_FILE  path of the csv file exported from Archeevo  [required]\n",
    "        DEST_DIR  Destination directory for generated files and databases\n",
    "                  [required]\n",
    "\n",
    "\n",
    "      Options:\n",
    "        --db-connection TEXT    SQLAlchemy connection string if direct import is\n",
    "                                desired, leave blank if not. If a connection string\n",
    "                                is provided no Kleio files are generated.  [default:\n",
    "                                ]\n",
    "\n",
    "        --rows INTEGER          max number of rows to processed (0 for all)\n",
    "                                [default: 50]\n",
    "\n",
    "        --batch INTEGER         Number of records per file or database insert\n",
    "                                [default: 500]\n",
    "\n",
    "        --dryrun / --no-dryrun  output to terminal, do not create files  [default:\n",
    "                                False]\n",
    "\n",
    "        --echo / --no-echo      echo the information in each row of the export file\n",
    "                                [default: False]\n",
    "\n",
    "        --install-completion    Install completion for the current shell.\n",
    "        --show-completion       Show completion for the current shell, to copy it or\n",
    "                                customize the installation.\n",
    "\n",
    "        --help                  Show this message and exit.\n",
    "\n"
   ]
  },
  {
   "cell_type": "markdown",
   "metadata": {},
   "source": [
    "### Converting to `kleio` files\n",
    "### Converter para ficheiros `Kleio`\n",
    "\n",
    "_Testing (process 100 records in groups of 10):_\n",
    "\n",
    "Teste (processar 100 registos em grupos de 10):\n",
    "\n",
    "    python notebooks/import-alumni.py database/auc/PT-AUC-ELU-UC-AUC-B-001-001.CSV \\\n",
    "                            notebooks/ucalumni/tests/sources \\\n",
    "                            --db-connection '' \\\n",
    "                            --rows 100 \\\n",
    "                            --batch 10 \\\n",
    "                            --no-dryrun \\\n",
    "                            --no-echo\n",
    "    \n",
    "   \n",
    "_Full run (process all records into files of 500 students each - around 200 files)_\n",
    "\n",
    "Completo (processar todos os registos em ficheiros com 500 alunos cada - cerca de 200 ficheiros):\n",
    "\n",
    "    python notebooks/import-alumni.py database/auc/PT-AUC-ELU-UC-AUC-B-001-001.CSV \\\n",
    "                            sources \\\n",
    "                            --db-connection '' \\\n",
    "                            --rows 0 \\\n",
    "                            --batch 500 \\\n",
    "                            --no-dryrun \\\n",
    "                            --no-echo\n",
    "\n",
    "\n"
   ]
  },
  {
   "cell_type": "markdown",
   "metadata": {},
   "source": [
    "## _Converting from within the notebook_\n",
    "## Converting a partir deste notebook\n",
    "\n",
    "> _NOTE: The `notebook` must be kept open during the convertion, which might take a few hours_.\n",
    "\n",
    "  \n",
    "> NOTA:  O `notebook` tem de estar aberto durante o processo de conversão, que pode durar várias horas."
   ]
  },
  {
   "cell_type": "code",
   "execution_count": 2,
   "metadata": {},
   "outputs": [
    {
     "name": "stdout",
     "output_type": "stream",
     "text": [
      "Current dir (should end with 'notebooks'): /Users/jrc/mhk-home/sources/ucprosop/ucprosop/notebooks\n"
     ]
    }
   ],
   "source": [
    "import os\n",
    "cwd = os.getcwd()\n",
    "print(\"Current dir (should end in 'notebooks'):\",cwd)"
   ]
  },
  {
   "cell_type": "markdown",
   "metadata": {},
   "source": [
    "### Converter directamente para a base de dados (sqlite)\n",
    "\n",
    "Executar a célula seguinte converte o ficheiro de alunos, importando na base de dados em grupos de 100.\n",
    "\n"
   ]
  },
  {
   "cell_type": "code",
   "execution_count": 4,
   "metadata": {},
   "outputs": [
    {
     "name": "stdout",
     "output_type": "stream",
     "text": [
      "Stored 'con_string' (str)\n"
     ]
    }
   ],
   "source": [
    "from ucalumni.importer import import_auc_alumni\n",
    "from ucalumni.aluno import Aluno\n",
    "from ucalumni import extractors\n",
    "from ucalumni import mapping\n",
    "\n",
    "catalog = '../database/auc/PT-AUC-ELU-UC-AUC-B-001-001.CSV'\n",
    "destdir = '../database/sqlite3' # destination directory for database file (sqlite only)\n",
    "                         # connection string for direct import to database\n",
    "con_string = f\"sqlite:///{destdir}/ucalumni.db?check_same_thread=False\"\n",
    "# This will store the connection string for other notebooks\n",
    "# To retrieve the in another notebook use %store -r con_string \n",
    "%store con_string\n",
    "rows= 0                 # stop after rows, 0 to process everything\n",
    "batch = 100            # number of alumni per kleio file\n",
    "dryrun = False           # if true do not write, just output in notebook\n",
    "echo   = False           # if true each row in csv file will be printed in notebook\n"
   ]
  },
  {
   "cell_type": "code",
   "execution_count": null,
   "metadata": {},
   "outputs": [],
   "source": [
    "\n",
    "import_auc_alumni(  catalog,\n",
    "                    destdir,\n",
    "                    con_string,\n",
    "                    rows,\n",
    "                    batch,\n",
    "                    dryrun,\n",
    "                    echo\n",
    "                    )"
   ]
  },
  {
   "cell_type": "markdown",
   "metadata": {},
   "source": [
    "## Gerar ficheiros Kleio para posterior importação\n",
    "\n",
    "Esta modalidade produz ficheiros na notação `Kleio`.  \n",
    "\n",
    "Embora exija um posterior passo de importação, tem a vantagem de produzir \n",
    "uma representação dos dados num formato legível, de fácil permuta e conservação. \n",
    "\n",
    "Os ficheiros produzidos são eficazmente comprimidos com utilitários tipo \"Zip\"."
   ]
  },
  {
   "cell_type": "markdown",
   "metadata": {},
   "source": [
    "Executar a célula seguinte converte o ficheiro de alunos para ficheiros `Kleio`, com 500 alunos em cada ficheiro.\n",
    "\n",
    "Os ficheiros têm de ser posteriormente traduzidos e importados em Timelink ou MHK.\n",
    "\n"
   ]
  },
  {
   "cell_type": "code",
   "execution_count": null,
   "metadata": {},
   "outputs": [],
   "source": [
    "catalog = '../database/other_exports/ficheiro-alunos-auc/PT-AUC-ELU-UC-AUC-B-001-001.CSV'\n",
    "destdir = '../sources/' # destination directory for Kleio files\n",
    "con_string = None         # connection string for direct import to database\n",
    "rows= 0                 # stop after rows, 0 to process everything\n",
    "nalumni = 500            # limit of alumni per kleio file\n",
    "dryrun = False           # if true do not write, just output in notebook\n",
    "echo   = False           # if true each row in csv file will be printed in notebook\n",
    "import_auc_alumni(  catalog,\n",
    "                    destdir,\n",
    "                    con_string,\n",
    "                    rows,\n",
    "                    nalumni,\n",
    "                    dryrun,\n",
    "                    echo\n",
    "                    )"
   ]
  },
  {
   "cell_type": "markdown",
   "metadata": {},
   "source": [
    "# Primeiro e último aluno, por ordem de importação/atualização.\n",
    "\n"
   ]
  },
  {
   "cell_type": "code",
   "execution_count": 3,
   "metadata": {},
   "outputs": [
    {
     "name": "stdout",
     "output_type": "stream",
     "text": [
      "140337 António Pinto Abadeço 2022-03-21 07:32:26.613268\n",
      "196220 Vasco de Oliveira Zuzarte 2022-03-21 17:41:20.281159\n"
     ]
    }
   ],
   "source": [
    "from sqlalchemy import select,desc\n",
    "from sqlalchemy.orm import sessionmaker\n",
    "from timelink.mhk.models import base\n",
    "from timelink.mhk.models.person import Person\n",
    "from timelink.mhk.models.db import TimelinkDB, SQLALCHEMY_ECHO\n",
    "\n",
    "\n",
    "Session = sessionmaker()\n",
    "\n",
    "connection_string=\"sqlite:///../database/sqlite3/ucalumni.db?check_same_thread=False\"\n",
    "\n",
    "SQLALCHEMY_ECHO = True\n",
    "db = TimelinkDB(connection_string)\n",
    "\n",
    "Session.configure(bind=db.engine())\n",
    "\n",
    "stmt = select(Person).order_by(Person.updated).limit(1)\n",
    "with Session() as session:\n",
    "    first = session.execute(stmt).scalar()\n",
    "    print(first.id,first.name,first.updated)\n",
    "\n",
    "stmt = select(Person).order_by(desc(Person.updated)).limit(1)\n",
    "with Session() as session:\n",
    "    last = session.execute(stmt).scalar()\n",
    "    print(last.id,last.name, last.updated)\n"
   ]
  }
 ],
 "metadata": {
  "interpreter": {
   "hash": "5e0ea4420a573f75e62c9da893eee578da14dd1811a84166ea299fd82591eb6f"
  },
  "kernelspec": {
   "display_name": "Python 3.9.6 64-bit ('3.9.6': pyenv)",
   "language": "python",
   "name": "python3"
  },
  "language_info": {
   "codemirror_mode": {
    "name": "ipython",
    "version": 3
   },
   "file_extension": ".py",
   "mimetype": "text/x-python",
   "name": "python",
   "nbconvert_exporter": "python",
   "pygments_lexer": "ipython3",
   "version": "3.9.6"
  },
  "orig_nbformat": 4
 },
 "nbformat": 4,
 "nbformat_minor": 2
}
