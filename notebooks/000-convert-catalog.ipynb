{
 "cells": [
  {
   "cell_type": "markdown",
   "metadata": {},
   "source": [
    "**[EN]** English only\n",
    "\n",
    "FIX no relevant code here change to md file\n",
    "\n",
    "\n",
    "# Converting the \"Ficheiro de alunos\"\n",
    "\n",
    "This notebook processes a file exported from the \"Ficheiro de alunos\" in CSV format (command separated values), \n",
    "converting it in `Kleio` source files or importing directly into a `Timelink` database.\n",
    "\n",
    "* For detailed information on the contents of the CSV file and the processing methodolgy see [README_ucalumni.md](README_ucalumni.md)\n",
    "* For information on the `Kleio` format see [README_timelink_db.md](README_timelink_db.md).\n",
    "* For the structure of the `Timelink` database see [README_timelink_db.md](README_timelink_db.md)\n"
   ]
  },
  {
   "cell_type": "markdown",
   "metadata": {},
   "source": [
    "> _First time use of the `notebooks`: follow instructions in the `README.md` file in this directory._"
   ]
  },
  {
   "cell_type": "markdown",
   "metadata": {},
   "source": [
    "\n",
    "\n"
   ]
  },
  {
   "cell_type": "markdown",
   "metadata": {},
   "source": [
    "**[EN]**\n",
    "## Converting from a terminal window\n",
    "\n",
    "Use the utility `import-alumni.py`, from whithin the repository top level directory `ucprosop`.\n",
    "\n",
    "### Getting help for the `import-alumni.py` utility\n",
    "\n",
    "---\n",
    "**[PT]**\n",
    "## Converter a partir do terminal\n",
    "\n",
    "\n",
    "Usar o utilitário `import-alumni.py`, a partir da directoria raiz do repositório `ucprosop`.\n",
    "\n",
    "\n",
    "### Obtendo ajuda para o utilitário `import-alumni.py`. \n",
    "\n",
    "      \n",
    "  python notebooks/import-alumni.py --help\n",
    "\n",
    "\n",
    ">>>\n",
    "\n",
    "      Usage: import-alumni.py [OPTIONS] CSV_FILE DEST_DIR\n",
    "\n",
    "        Generate kleio source files for alumni records exported from AUC catalog\n",
    "        (Archeevo)\n",
    "\n",
    "      Arguments:\n",
    "        CSV_FILE  path of the csv file exported from Archeevo  [required]\n",
    "        DEST_DIR  Destination directory for generated files and databases\n",
    "                  [required]\n",
    "\n",
    "\n",
    "    ....\n"
   ]
  },
  {
   "cell_type": "markdown",
   "metadata": {},
   "source": [
    "\n"
   ]
  },
  {
   "cell_type": "markdown",
   "metadata": {},
   "source": [
    "    python notebooks/import-alumni.py database/auc/PT-AUC-ELU-UC-AUC-B-001-001.CSV \\\n",
    "            database/sqlite3\\\n",
    "            --db-connection \"sqlite:///database/sqlite3/ucalumni.db?check_same_thread=False\"\n",
    "            --rows 0\n",
    "            --batch 500\n",
    "            --dryrun"
   ]
  },
  {
   "cell_type": "markdown",
   "metadata": {},
   "source": [
    "#### Converting from within the notebook\n",
    "\n",
    "> _NOTE: The `notebook` must be kept open during the convertion, which might take a few hours.\n"
   ]
  },
  {
   "cell_type": "code",
   "execution_count": 2,
   "metadata": {},
   "outputs": [
    {
     "name": "stdout",
     "output_type": "stream",
     "text": [
      "Current dir (should end with 'notebooks'): /Users/jrc/mhk-home/sources/ucprosop/ucprosop/notebooks\n"
     ]
    }
   ],
   "source": [
    "import os\n",
    "cwd = os.getcwd()\n",
    "print(\"Current dir (should end in 'notebooks'):\",cwd)"
   ]
  },
  {
   "cell_type": "markdown",
   "metadata": {},
   "source": []
  },
  {
   "cell_type": "code",
   "execution_count": 4,
   "metadata": {},
   "outputs": [
    {
     "name": "stdout",
     "output_type": "stream",
     "text": [
      "Stored 'con_string' (str)\n"
     ]
    }
   ],
   "source": [
    "from ucalumni.importer import import_auc_alumni\n",
    "from ucalumni.aluno import Aluno\n",
    "from ucalumni import extractors\n",
    "from ucalumni import mapping\n",
    "\n",
    "catalog = '../database/auc/PT-AUC-ELU-UC-AUC-B-001-001.CSV'\n",
    "destdir = '../database/sqlite3' # destination directory for database file (sqlite only)\n",
    "                         # connection string for direct import to database\n",
    "con_string = f\"sqlite:///{destdir}/ucalumni.db?check_same_thread=False\"\n",
    "# This will store the connection string for other notebooks\n",
    "# To retrieve the in another notebook use %store -r con_string \n",
    "%store con_string\n",
    "rows= 0                 # stop after rows, 0 to process everything\n",
    "batch = 100            # number of alumni per kleio file\n",
    "dryrun = False           # if true do not write, just output in notebook\n",
    "echo   = False           # if true each row in csv file will be printed in notebook\n"
   ]
  },
  {
   "cell_type": "code",
   "execution_count": null,
   "metadata": {},
   "outputs": [],
   "source": [
    "\n",
    "import_auc_alumni(  catalog,\n",
    "                    destdir,\n",
    "                    con_string,\n",
    "                    rows,\n",
    "                    batch,\n",
    "                    dryrun,\n",
    "                    echo\n",
    "                    )"
   ]
  },
  {
   "cell_type": "markdown",
   "metadata": {},
   "source": [
    "## Gerar ficheiros Kleio para posterior importação\n",
    "\n",
    "Esta modalidade produz ficheiros na notação `Kleio`.  \n",
    "\n",
    "Embora exija um posterior passo de importação, tem a vantagem de produzir \n",
    "uma representação dos dados num formato legível, de fácil permuta e conservação. \n",
    "\n",
    "Os ficheiros produzidos são eficazmente comprimidos com utilitários tipo \"Zip\"."
   ]
  },
  {
   "cell_type": "markdown",
   "metadata": {},
   "source": [
    "Executar a célula seguinte converte o ficheiro de alunos para ficheiros `Kleio`, com 500 alunos em cada ficheiro.\n",
    "\n",
    "Os ficheiros têm de ser posteriormente traduzidos e importados em Timelink ou MHK.\n",
    "\n"
   ]
  },
  {
   "cell_type": "code",
   "execution_count": null,
   "metadata": {},
   "outputs": [],
   "source": [
    "catalog = '../database/other_exports/ficheiro-alunos-auc/PT-AUC-ELU-UC-AUC-B-001-001.CSV'\n",
    "destdir = '../sources/' # destination directory for Kleio files\n",
    "con_string = None         # connection string for direct import to database\n",
    "rows= 0                 # stop after rows, 0 to process everything\n",
    "nalumni = 500            # limit of alumni per kleio file\n",
    "dryrun = False           # if true do not write, just output in notebook\n",
    "echo   = False           # if true each row in csv file will be printed in notebook\n",
    "import_auc_alumni(  catalog,\n",
    "                    destdir,\n",
    "                    con_string,\n",
    "                    rows,\n",
    "                    nalumni,\n",
    "                    dryrun,\n",
    "                    echo\n",
    "                    )"
   ]
  },
  {
   "cell_type": "markdown",
   "metadata": {},
   "source": [
    "## Check first and last student\n",
    "\n"
   ]
  },
  {
   "cell_type": "code",
   "execution_count": 3,
   "metadata": {},
   "outputs": [
    {
     "name": "stdout",
     "output_type": "stream",
     "text": [
      "140337 António Pinto Abadeço 2022-03-21 07:32:26.613268\n",
      "196220 Vasco de Oliveira Zuzarte 2022-03-21 17:41:20.281159\n"
     ]
    }
   ],
   "source": [
    "from sqlalchemy import select,desc\n",
    "from sqlalchemy.orm import sessionmaker\n",
    "from timelink.mhk.models import base\n",
    "from timelink.mhk.models.person import Person\n",
    "from timelink.mhk.models.db import TimelinkDB, SQLALCHEMY_ECHO\n",
    "\n",
    "\n",
    "Session = sessionmaker()\n",
    "\n",
    "connection_string=\"sqlite:///../database/sqlite3/ucalumni.db?check_same_thread=False\"\n",
    "\n",
    "SQLALCHEMY_ECHO = True\n",
    "db = TimelinkDB(connection_string)\n",
    "\n",
    "Session.configure(bind=db.engine())\n",
    "\n",
    "stmt = select(Person).order_by(Person.updated).limit(1)\n",
    "with Session() as session:\n",
    "    first = session.execute(stmt).scalar()\n",
    "    print(first.id,first.name,first.updated)\n",
    "\n",
    "stmt = select(Person).order_by(desc(Person.updated)).limit(1)\n",
    "with Session() as session:\n",
    "    last = session.execute(stmt).scalar()\n",
    "    print(last.id,last.name, last.updated)\n"
   ]
  }
 ],
 "metadata": {
  "interpreter": {
   "hash": "6912b689f53d123cf4e674f359f06a76b0d189d0d8bdb70b75e8dbb7e4821548"
  },
  "kernelspec": {
   "display_name": "Python 3.10.3 64-bit ('3.10.3')",
   "language": "python",
   "name": "python3"
  },
  "language_info": {
   "codemirror_mode": {
    "name": "ipython",
    "version": 3
   },
   "file_extension": ".py",
   "mimetype": "text/x-python",
   "name": "python",
   "nbconvert_exporter": "python",
   "pygments_lexer": "ipython3",
   "version": "3.10.3"
  },
  "orig_nbformat": 4
 },
 "nbformat": 4,
 "nbformat_minor": 2
}
