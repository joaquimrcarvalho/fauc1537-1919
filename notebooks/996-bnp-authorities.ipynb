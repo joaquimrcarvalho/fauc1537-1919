{
 "cells": [
  {
   "cell_type": "markdown",
   "metadata": {},
   "source": [
    "**[PT]** Português\n",
    "\n",
    "---\n",
    "\n",
    "**[EN]** English"
   ]
  },
  {
   "cell_type": "markdown",
   "metadata": {},
   "source": [
    "# Explorando o ficheiro de autoridades da Biblioteca Nacional de Portugal\n",
    "\n",
    "---\n",
    "\n",
    "# Exploring the authority records of the Portuguese National Library\n",
    "\n",
    "\n"
   ]
  },
  {
   "cell_type": "markdown",
   "metadata": {},
   "source": [
    "## Referências\n",
    "\n",
    "--\n",
    "\n",
    "## References\n",
    "\n",
    "* https://dados.gov.pt/pt/datasets/catalogo-bnp-registos-de-autoridade/ (download)\n",
    "* https://purl.pt/11442/1/\n"
   ]
  },
  {
   "cell_type": "markdown",
   "metadata": {},
   "source": [
    "## Ficheiros de autoridade disponíveis localmente\n",
    "\n",
    "---\n",
    "\n",
    "## Authority records available locally\n",
    "\n",
    "\n",
    "Download from https://dados.gov.pt/pt/datasets/catalogo-bnp-registos-de-autoridade/\n",
    "\n",
    "into `extras/bnp/catalogoautoridades.marcxchange`"
   ]
  },
  {
   "cell_type": "code",
   "execution_count": 1,
   "metadata": {},
   "outputs": [
    {
     "name": "stdout",
     "output_type": "stream",
     "text": [
      "['authorities_1723900_to_1844400.xml', 'authorities_456204_to_913891.xml', 'authorities_1290322_to_1444155.xml', 'authorities_1_to_100936.xml', 'authorities_1444156_to_1586439.xml', 'authorities_1586454_to_1723898.xml', 'authorities_1152445_to_1290321.xml', 'authorities_100937_to_184478.xml', 'authorities_913896_to_1152444.xml', 'authorities_264875_to_456203.xml', 'authorities_184479_to_264874.xml']\n"
     ]
    }
   ],
   "source": [
    "from pathlib import Path\n",
    "\n",
    "path = '../extras/bnp/catalogoautoridades.marcxchange'\n",
    "authority_records = [f for f in list(Path(path).rglob('*.xml'))]\n",
    "print([f.name for f in authority_records])\n"
   ]
  },
  {
   "cell_type": "code",
   "execution_count": 4,
   "metadata": {},
   "outputs": [
    {
     "name": "stdout",
     "output_type": "stream",
     "text": [
      "Requirement already satisfied: lxml in /Users/jrc/.pyenv/versions/3.10.3/lib/python3.10/site-packages (4.8.0)\n"
     ]
    }
   ],
   "source": [
    "!pip install lxml"
   ]
  },
  {
   "cell_type": "code",
   "execution_count": 2,
   "metadata": {},
   "outputs": [],
   "source": [
    "from lxml import etree\n",
    "\n",
    "auth_file = etree.parse(authority_records[0])"
   ]
  },
  {
   "cell_type": "code",
   "execution_count": 3,
   "metadata": {},
   "outputs": [
    {
     "data": {
      "text/plain": [
       "'{info:lc/xmlns/marcxchange-v1}collection'"
      ]
     },
     "execution_count": 3,
     "metadata": {},
     "output_type": "execute_result"
    }
   ],
   "source": [
    "recs = auth_file.getroot()\n",
    "recs.tag"
   ]
  },
  {
   "cell_type": "code",
   "execution_count": 4,
   "metadata": {},
   "outputs": [
    {
     "ename": "SyntaxError",
     "evalue": "f-string: expecting '}' (1241213612.py, line 23)",
     "output_type": "error",
     "traceback": [
      "\u001b[0;36m  Input \u001b[0;32mIn [4]\u001b[0;36m\u001b[0m\n\u001b[0;31m    print(f\"Could not understand date: |{dates.text}| on record id: {\")\u001b[0m\n\u001b[0m                                                                      ^\u001b[0m\n\u001b[0;31mSyntaxError\u001b[0m\u001b[0;31m:\u001b[0m f-string: expecting '}'\n"
     ]
    }
   ],
   "source": [
    "xsl_file = '../extras/bnp/visbd-fauc.xsl'\n",
    "xsl = etree.parse(xsl_file) \n",
    "\n",
    "\n",
    "marxchange_ns = \"info:lc/xmlns/marcxchange-v1\"\n",
    "nsmap = {None: marxchange_ns}\n",
    "for rec in recs[:20]:\n",
    "    cf001 = rec.find(\"controlfield[@tag = '001']\",namespaces=nsmap)\n",
    "\n",
    "    bnp_id = cf001.text\n",
    "    url = f\"http://urn.bn.pt/bibliografia/unimarc/xml?id={bnp_id}\"\n",
    "\n",
    "    country = rec.find(\"datafield[@tag = '102']/subfield[@code='a']\",namespaces=nsmap)\n",
    "    if country is not None:\n",
    "        if country.text == 'PT':\n",
    "            # Portuguese author\n",
    "            dates = rec.find(\"datafield[@tag = '200']/subfield[@code='f']\",namespaces=nsmap)\n",
    "            if dates is not None and len(dates.text)>=4:\n",
    "                century = dates.text[:2]\n",
    "                try:\n",
    "                    icentury = int(century)\n",
    "                except ValueError as ve:\n",
    "                    print(f\"Could not understand date: |{dates.text}| on record id: {bnp:id}\")\n",
    "                    continue\n",
    "                    \n",
    "                if icentury < 19:\n",
    "                    print(\"Record of Portuguese author pre-1900:\")\n",
    "                    for cf in rec.findall(\"controlfield\",namespaces=nsmap):\n",
    "                        print(cf.get('tag'),cf.text)\n",
    "                    print(\"...\")\n",
    "\n",
    "\n",
    "\n",
    "                    records = etree.parse(url)\n",
    "                    transform = etree.XSLT(xsl)\n",
    "\n",
    "                    print(str(transform(records)))\n",
    "                    tags=['101','102','123','160','200','300','305','310','320','330','340','356']\n",
    "                    for tag in tags: \n",
    "                        df = rec.find(f\"datafield[@tag = '{tag}']\",namespaces=nsmap)\n",
    "                        if df is not None:\n",
    "                            print(f\"{df.get('tag'):3s} {df.get('ind1'):1s}{df.get('ind2'):1s}\")\n",
    "                            for sf in list(df):\n",
    "                                print(f\"   ${sf.get('code')} {sf.text}\",)\n",
    "                    pass\n",
    "                    \n",
    "\n",
    "\n"
   ]
  },
  {
   "cell_type": "markdown",
   "metadata": {},
   "source": []
  }
 ],
 "metadata": {
  "interpreter": {
   "hash": "6912b689f53d123cf4e674f359f06a76b0d189d0d8bdb70b75e8dbb7e4821548"
  },
  "kernelspec": {
   "display_name": "Python 3.10.3 64-bit ('3.10.3')",
   "language": "python",
   "name": "python3"
  },
  "language_info": {
   "codemirror_mode": {
    "name": "ipython",
    "version": 3
   },
   "file_extension": ".py",
   "mimetype": "text/x-python",
   "name": "python",
   "nbconvert_exporter": "python",
   "pygments_lexer": "ipython3",
   "version": "3.10.3"
  },
  "orig_nbformat": 4
 },
 "nbformat": 4,
 "nbformat_minor": 2
}
