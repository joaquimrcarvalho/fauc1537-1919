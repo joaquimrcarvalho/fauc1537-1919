{
 "cells": [
  {
   "cell_type": "markdown",
   "metadata": {},
   "source": [
    "**[PT]** Português\n",
    "\n",
    "---\n",
    "\n",
    "**[EN]** English"
   ]
  },
  {
   "cell_type": "markdown",
   "metadata": {},
   "source": [
    "# Explorando o ficheiro de autoridades da Biblioteca Nacional de Portugal\n",
    "\n",
    "---\n",
    "\n",
    "# Exploring the authority records of the Portuguese National Library\n",
    "\n",
    "\n"
   ]
  },
  {
   "cell_type": "markdown",
   "metadata": {},
   "source": [
    "## Referências\n",
    "\n",
    "--\n",
    "\n",
    "## References\n",
    "\n",
    "* https://dados.gov.pt/pt/datasets/catalogo-bnp-registos-de-autoridade/ (download)\n",
    "* https://purl.pt/11442/1/\n"
   ]
  },
  {
   "cell_type": "markdown",
   "metadata": {},
   "source": [
    "Note: In VIAF co-authors sometime show, with a BNP ID. See https://viaf.org/viaf/61933031/viaf.xml . Where does that information comes from?"
   ]
  },
  {
   "cell_type": "markdown",
   "metadata": {},
   "source": [
    "Load wikidata information see (995-linked_data_sandbox.ipynb)[995-linked_data_sandbox.ipynb]"
   ]
  },
  {
   "cell_type": "code",
   "execution_count": 1,
   "metadata": {},
   "outputs": [],
   "source": [
    "import pandas as pd\n",
    "\n",
    "students = pd.read_csv('../inferences/wikidata/students_wikidata_matched.csv')"
   ]
  },
  {
   "cell_type": "code",
   "execution_count": 2,
   "metadata": {},
   "outputs": [
    {
     "name": "stdout",
     "output_type": "stream",
     "text": [
      "<class 'pandas.core.frame.DataFrame'>\n",
      "RangeIndex: 691 entries, 0 to 690\n",
      "Data columns (total 11 columns):\n",
      " #   Column        Non-Null Count  Dtype  \n",
      "---  ------        --------------  -----  \n",
      " 0   Unnamed: 0    691 non-null    int64  \n",
      " 1   wikidata      691 non-null    object \n",
      " 2   name          691 non-null    object \n",
      " 3   alias         464 non-null    object \n",
      " 4   bnp_id        458 non-null    float64\n",
      " 5   naturalidade  654 non-null    object \n",
      " 6   placeID       654 non-null    object \n",
      " 7   longitude     652 non-null    float64\n",
      " 8   latitude      652 non-null    float64\n",
      " 9   birth_date    691 non-null    object \n",
      " 10  fauc_id       257 non-null    float64\n",
      "dtypes: float64(4), int64(1), object(6)\n",
      "memory usage: 59.5+ KB\n"
     ]
    }
   ],
   "source": [
    "students.info()"
   ]
  },
  {
   "cell_type": "code",
   "execution_count": 3,
   "metadata": {},
   "outputs": [
    {
     "name": "stdout",
     "output_type": "stream",
     "text": [
      "Número de autores na BN: 259\n"
     ]
    }
   ],
   "source": [
    "print(\"Número de autores na BN:\",len(students.bnp_id.unique()))"
   ]
  },
  {
   "cell_type": "markdown",
   "metadata": {},
   "source": [
    "## Ficheiros de autoridade disponíveis localmente\n",
    "\n",
    "---\n",
    "\n",
    "## Authority records available locally\n",
    "\n",
    "\n",
    "Download from https://dados.gov.pt/pt/datasets/catalogo-bnp-registos-de-autoridade/\n",
    "\n",
    "into `extras/bnp/catalogoautoridades.marcxchange`"
   ]
  },
  {
   "cell_type": "code",
   "execution_count": 1,
   "metadata": {},
   "outputs": [
    {
     "name": "stdout",
     "output_type": "stream",
     "text": [
      "['authorities_1723900_to_1844400.xml', 'authorities_456204_to_913891.xml', 'authorities_1290322_to_1444155.xml', 'authorities_1_to_100936.xml', 'authorities_1444156_to_1586439.xml', 'authorities_1586454_to_1723898.xml', 'authorities_1152445_to_1290321.xml', 'authorities_100937_to_184478.xml', 'authorities_913896_to_1152444.xml', 'authorities_264875_to_456203.xml', 'authorities_184479_to_264874.xml']\n"
     ]
    }
   ],
   "source": [
    "from pathlib import Path\n",
    "\n",
    "path = '../extras/bnp/catalogoautoridades.marcxchange'\n",
    "authority_records = [f for f in list(Path(path).rglob('*.xml'))]\n",
    "print([f.name for f in authority_records])\n"
   ]
  },
  {
   "cell_type": "code",
   "execution_count": 4,
   "metadata": {},
   "outputs": [
    {
     "name": "stdout",
     "output_type": "stream",
     "text": [
      "Requirement already satisfied: lxml in /Users/jrc/.pyenv/versions/3.10.3/lib/python3.10/site-packages (4.8.0)\n"
     ]
    }
   ],
   "source": [
    "!pip install lxml"
   ]
  },
  {
   "cell_type": "code",
   "execution_count": 2,
   "metadata": {},
   "outputs": [],
   "source": [
    "from lxml import etree\n",
    "\n",
    "auth_file = etree.parse(authority_records[0])"
   ]
  },
  {
   "cell_type": "code",
   "execution_count": 3,
   "metadata": {},
   "outputs": [
    {
     "data": {
      "text/plain": [
       "'{info:lc/xmlns/marcxchange-v1}collection'"
      ]
     },
     "execution_count": 3,
     "metadata": {},
     "output_type": "execute_result"
    }
   ],
   "source": [
    "recs = auth_file.getroot()\n",
    "recs.tag"
   ]
  },
  {
   "cell_type": "code",
   "execution_count": 9,
   "metadata": {},
   "outputs": [
    {
     "name": "stdout",
     "output_type": "stream",
     "text": [
      "Record of Portuguese author pre-1900:\n",
      "001 1724018\n",
      "...\n",
      "102   \n",
      "   $a PT\n",
      "200  1\n",
      "   $a Sarmento,\n",
      "   $b Pedro Mariz de Sousa,\n",
      "   $f 1745-1822\n",
      "\n",
      "Preceitos de construcção de navios e da sua mastriação e nomenclatura portugueza... / Pedro de Mariz de Souza Sarmento. - Lisboa : na Offic. de Antonio Gomes, 1789. - 187 p. ; 15 cm. - Na p. de tít.: Com licenca da Real Meza da Commis. Geral sobre o Exame, e Censura dos Livros\n",
      "http://id.bnportugal.gov.pt/bib/catbnp/637223\n",
      "\n",
      "Memorias Das Gloriozas, e Immortaes Acções das Armas Anglo-Luzas, nas Comquistas das duas importantes Praças de Rodrigo, e Badajoz, Commandadas pello Marechal General, o Grande Artur Welleslei, Cavalheiro da muito honrada Ordem do Banho, Gram Cruz da Ordem da Torre, e Espada, e da de S[ão] Fernando das Hespanhas; Lord, Cond'Wellington; Barão do Douro, Visconde de Talavera, conde do Vimeiro, Marques de Torres Vedras, Duque de Cidade Rodrigo, e Grande das Hespanhas da primeira classe; dedicadas e so offerecidas, ao seu mais intimo e verdadeiro Amigo, o Amigo do Principe, e da Patria, o Illustrissimo, e Excellentissimo Senhor Pedro de Mariz de Souza, e Sarmento / Luiz Ant[óni]o Jorge [Manuscrito]. - , 1812. - [36] f. ; 20 cm. - Autógrafo assinado. - Obra dedicada a Pedro Mariz de Sousa Sarmento sobre as \"Gloziozas , e Immortaes Acçoens do Grande Wellington\" na tomada das praças de Cidade Rodrigo e Badajoz aos franceses em 1812 \"subjugando a indomita furia de Napoleaõ\". - Manchado pela humidade e tinta ferrogálica\n",
      "http://id.bnportugal.gov.pt/bib/catbnp/2025666\n",
      "\n",
      "Could not understand date: |fl. 17--| on record id: 1724099\n",
      "Record of Portuguese author pre-1900:\n",
      "001 1724100\n",
      "...\n",
      "102   \n",
      "   $a PT\n",
      "200  1\n",
      "   $a Melo,\n",
      "   $b João Manuel de,\n",
      "   $f 17--\n",
      "\n",
      "Ao Illustrissimo, e Excellentissimo Senhor D. Estevaõ de Menezes, conde de Tarouca : romance / de Joaõ Manoel de Mello. - [S.l. : s.n., 17--]. - [2] f. ; 2º (30 cm). - Tít. de apresentação do texto. - Indicação de autor no final do texto\n",
      "http://id.bnportugal.gov.pt/bib/catbnp/1256410\n",
      "\n",
      "Á erudita, e discreta Apologia, que o IIIustrissimo, e Excellentissimo Senhor Marquez de Valença fez em defensa do Theatro Hespanhol, em que promette, e cumpre generoso naõ offender o Theatro Francez : soneto / de Joaõ Manoel de Mello. - [S. l. : s. n., 17--]. - [1] f. ; 2º (30 cm). - Indicação de autor no final do soneto\n",
      "http://id.bnportugal.gov.pt/bib/catbnp/1258461\n",
      "\n",
      "Poesias Varias : Impressas, e manuscritas juntas em varios volumes / Por Joze Freire de Monterroyo Mascarenhas [Manuscrito]. - , 1744. - [186] f. : il. ; 32 cm. - Originais e cópias (algumas impressas). - Textos em português, espanhol e latim. - Compilação constituída, principalmente, por composições poéticas e orações panegíricas, por vezes dedicadas a D. João V, produzidas no contexto das Academias Literárias e Científicas tal como a \"Academia dos Engenhos Bracharenses\" com assembleia reunida a 6 de Maio de 1744 e presidida pelo padre jesuíta Francisco Pacheco, Mestre de Retórica. - Integra um conjunto de sete códices, com título comum, que reúnem textos em poesia e prosa dos séculos XVII e XVIII, compilados por José Freire de Monterroio Mascarenhas entre 1726 e 1748 (PBA. 126-132). - Capitais iniciais ornamentadas a cores com motivos zoomórficos (f. [38] e [150]). - Textos com partes riscadas, sublinhadas, correcções e anotações marginais. - F. soltas: [44-47]; rasgadas [98-99] e dobradas [180-181]. - Mutilado na margem superior: f. [173]. - Manchado, e por vezes perfurado, por acção da tinta ferrogálica. - Encadernação em pergaminho. - Livraria de Sebastião José de Carvalho e Melo, 1.º Marquês de Pombal (Adquirida pela BN em 1887). - Referido em: Ferreira, João Palma - Academias literárias dos séculos XVII e XVIII. Lisboa : Biblioteca Nacional, 1982. P. 107-108. - Referido em: Belo, André - Notícias impressas e manuscritas em Portugal no século XVIII: horizontes de leitura da Gazeta de Lisboa. Horizontes Antropológicos. Porto Alegre. ISSN 0104-7183. A. 10, n. 22 (Jul./Dez. 2004), P. 25-26. - Catalogação individualizada dos conteúdos em: José António Moniz - Inventario. Secção XIII - Manuscriptos Collecção Pombalina. Lisboa: BN, 1889\n",
      "http://id.bnportugal.gov.pt/bib/catbnp/2012816\n",
      "\n",
      "Could not understand date: |fl. 17--| on record id: 1724140\n",
      "Could not understand date: |fl. 16--| on record id: 1724142\n",
      "Record of Portuguese author pre-1900:\n",
      "001 1724170\n",
      "...\n",
      "102   \n",
      "   $a PT\n",
      "200  1\n",
      "   $a Lima,\n",
      "   $b Pedro André Borges de,\n",
      "   $f 17--\n",
      "\n",
      "Illustri ingenio, disertissimoque flori, Reverendissimo Patri Magistro Fr. Caietano Albuquerquio in Regali Bethlehem Monasterio theologiae moralis lectori / .. Petrus Andraeas Borgius de Lima. - [S. l. : s. n., 17--]. - [1] f. ; 2º (30 cm). - Indicação de autor no final do poema\n",
      "http://id.bnportugal.gov.pt/bib/catbnp/1258559\n",
      "\n",
      "Could not understand date: |fl. ca 1914| on record id: 1724173\n"
     ]
    }
   ],
   "source": [
    "xsl_file = '../extras/bnp/visbd-fauc.xsl'\n",
    "xsl = etree.parse(xsl_file) \n",
    "\n",
    "\n",
    "marxchange_ns = \"info:lc/xmlns/marcxchange-v1\"\n",
    "nsmap = {None: marxchange_ns}\n",
    "for rec in recs[:120]:\n",
    "    cf001 = rec.find(\"controlfield[@tag = '001']\",namespaces=nsmap)\n",
    "\n",
    "    bnp_id = cf001.text\n",
    "    url = f\"http://urn.bn.pt/bibliografia/unimarc/xml?id={bnp_id}\"\n",
    "\n",
    "    country = rec.find(\"datafield[@tag = '102']/subfield[@code='a']\",namespaces=nsmap)\n",
    "    if country is not None:\n",
    "        if country.text == 'PT':\n",
    "            # Portuguese author\n",
    "            dates = rec.find(\"datafield[@tag = '200']/subfield[@code='f']\",namespaces=nsmap)\n",
    "            if dates is not None and len(dates.text)>=4:\n",
    "                century = dates.text[:2]\n",
    "                try:\n",
    "                    icentury = int(century)\n",
    "                except ValueError as ve:\n",
    "                    print(f\"Could not understand date: |{dates.text}| on record id: {bnp_id}\")\n",
    "                    continue\n",
    "                    \n",
    "                if icentury < 19:\n",
    "                    print(\"Record of Portuguese author pre-1900:\")\n",
    "                    for cf in rec.findall(\"controlfield\",namespaces=nsmap):\n",
    "                        print(cf.get('tag'),cf.text)\n",
    "                    print(\"...\")\n",
    "\n",
    "                    tags=['101','102','123','160','200','300','305','310','320','330','340','356']\n",
    "                    for tag in tags: \n",
    "                        df = rec.find(f\"datafield[@tag = '{tag}']\",namespaces=nsmap)\n",
    "                        if df is not None:\n",
    "                            print(f\"{df.get('tag'):3s} {df.get('ind1'):1s}{df.get('ind2'):1s}\")\n",
    "                            for sf in list(df):\n",
    "                                print(f\"   ${sf.get('code')} {sf.text}\",)\n",
    "\n",
    "                    records = etree.parse(url)\n",
    "                    transform = etree.XSLT(xsl)\n",
    "\n",
    "                    print(str(transform(records)))\n",
    "                    pass\n",
    "                    \n",
    "\n",
    "\n"
   ]
  },
  {
   "cell_type": "markdown",
   "metadata": {},
   "source": []
  }
 ],
 "metadata": {
  "interpreter": {
   "hash": "7304d886b43bb16e1a749ddd24e8b445d5532b2d22684f2d7b9b246951a5e8a4"
  },
  "kernelspec": {
   "display_name": "Python 3.10.0 64-bit ('3.10.0')",
   "language": "python",
   "name": "python3"
  },
  "language_info": {
   "codemirror_mode": {
    "name": "ipython",
    "version": 3
   },
   "file_extension": ".py",
   "mimetype": "text/x-python",
   "name": "python",
   "nbconvert_exporter": "python",
   "pygments_lexer": "ipython3",
   "version": "3.10.0"
  },
  "orig_nbformat": 4
 },
 "nbformat": 4,
 "nbformat_minor": 2
}
