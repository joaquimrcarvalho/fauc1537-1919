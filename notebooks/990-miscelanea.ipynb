{
 "cells": [
  {
   "cell_type": "markdown",
   "metadata": {},
   "source": [
    "# Converter datas pré gregorianas.\n",
    "\n",
    "\n",
    "Necessita de \n",
    "\n",
    "    pip install convertdate"
   ]
  },
  {
   "cell_type": "markdown",
   "metadata": {},
   "source": [
    "Exº Dehergne, entrada 628 Francisco Pérez \n",
    "\n",
    "\n",
    " [http://timelink.uc.pt/mhk/china/id/rp-87](http://timelink.uc.pt/mhk/china/id/rp-87)\n",
    "\n",
    " M. 12 févr. 1583 (ancien style) = 22 février (nouveau style de la réforme introduite à Rome en oct. 1582),"
   ]
  },
  {
   "cell_type": "code",
   "execution_count": 2,
   "metadata": {},
   "outputs": [
    {
     "data": {
      "text/plain": [
       "(1583, 2, 22)"
      ]
     },
     "execution_count": 2,
     "metadata": {},
     "output_type": "execute_result"
    }
   ],
   "source": [
    "from convertdate import julian\n",
    "from convertdate import gregorian\n",
    "\n",
    "julian.to_gregorian(1583,2,12)"
   ]
  },
  {
   "cell_type": "code",
   "execution_count": 11,
   "metadata": {},
   "outputs": [
    {
     "name": "stdout",
     "output_type": "stream",
     "text": [
      "(1582, 10, 4)\n",
      "(1582, 10, 15)\n"
     ]
    }
   ],
   "source": [
    "print(julian.to_gregorian(1582,9,24))\n",
    "print(julian.to_gregorian(1582,10,5))"
   ]
  },
  {
   "cell_type": "code",
   "execution_count": 14,
   "metadata": {},
   "outputs": [
    {
     "data": {
      "text/plain": [
       "[[None, None, None, None, None, 1, 2],\n",
       " [3, 4, 5, 6, 7, 8, 9],\n",
       " [10, 11, 12, 13, 14, 15, 16],\n",
       " [17, 18, 19, 20, 21, 22, 23],\n",
       " [24, 25, 26, 27, 28, 29, 30],\n",
       " [31, None, None, None, None, None]]"
      ]
     },
     "execution_count": 14,
     "metadata": {},
     "output_type": "execute_result"
    }
   ],
   "source": [
    "from convertdate import gregorian\n",
    "\n",
    "gregorian.monthcalendar(1582,10)"
   ]
  },
  {
   "cell_type": "markdown",
   "metadata": {},
   "source": [
    "# Testing mhk_users database"
   ]
  },
  {
   "cell_type": "code",
   "execution_count": 1,
   "metadata": {},
   "outputs": [
    {
     "name": "stdout",
     "output_type": "stream",
     "text": [
      "Connected to mhk_users\n"
     ]
    }
   ],
   "source": [
    "from timelink.mhk.utilities import get_connection_string, get_engine\n",
    "from sqlalchemy import MetaData, Table\n",
    "from sqlalchemy.orm import declarative_base, sessionmaker\n",
    "\n",
    "db = 'mhk_users'\n",
    "mhk_users = MetaData()\n",
    "Base = declarative_base()\n",
    "connection_string = get_connection_string(db)\n",
    "engine = get_engine(db)\n",
    "engine.echo = False     # set to False to prevent SQL logging\n",
    "Session = sessionmaker(bind=engine)\n",
    "comments_table = Table('comments', mhk_users, autoload_with=engine)\n",
    "users_table = Table('users', mhk_users, autoload_with=engine)\n",
    "print('Connected to',db)\n"
   ]
  },
  {
   "cell_type": "markdown",
   "metadata": {},
   "source": [
    "Process the comments"
   ]
  },
  {
   "cell_type": "code",
   "execution_count": 2,
   "metadata": {},
   "outputs": [
    {
     "name": "stdout",
     "output_type": "stream",
     "text": [
      "MHK databases: ['ilhavo', 'ucprosopd', 'ucprosop', 'anaisabel', 'soure_cloud', 'ucalumni', 'china', 'mhk']\n"
     ]
    }
   ],
   "source": [
    "from timelink.mhk.utilities import get_dbnames\n",
    "\n",
    "print(\"MHK databases:\",get_dbnames())"
   ]
  },
  {
   "cell_type": "code",
   "execution_count": 3,
   "metadata": {},
   "outputs": [],
   "source": [
    "from timelinknb import get_db\n",
    "from ucalumni.config import default_db\n",
    "\n",
    "db_spec = ('mhk','ucalumni')\n",
    "db_main = get_db(db_spec)"
   ]
  },
  {
   "cell_type": "code",
   "execution_count": 4,
   "metadata": {},
   "outputs": [
    {
     "ename": "NameError",
     "evalue": "name 'name' is not defined",
     "output_type": "error",
     "traceback": [
      "\u001b[0;31m---------------------------------------------------------------------------\u001b[0m",
      "\u001b[0;31mNameError\u001b[0m                                 Traceback (most recent call last)",
      "Cell \u001b[0;32mIn[4], line 13\u001b[0m\n\u001b[1;32m      1\u001b[0m \u001b[39mfrom\u001b[39;00m \u001b[39msqlalchemy\u001b[39;00m \u001b[39mimport\u001b[39;00m select\n\u001b[1;32m      2\u001b[0m \u001b[39mfrom\u001b[39;00m \u001b[39mucalumni\u001b[39;00m\u001b[39m.\u001b[39;00m\u001b[39maluno\u001b[39;00m \u001b[39mimport\u001b[39;00m get_aluno_from_db\n\u001b[1;32m      4\u001b[0m template_for_issue \u001b[39m=\u001b[39m \u001b[39mf\u001b[39m\u001b[39m\"\"\"\u001b[39m\u001b[39m \u001b[39m\n\u001b[1;32m      5\u001b[0m \n\u001b[1;32m      6\u001b[0m \u001b[39mTitle: Gralha no Registo: https://pesquisa.auc.uc.pt/details?id=\u001b[39m\u001b[39m{\u001b[39;00m\u001b[39mid\u001b[39m\u001b[39m}\u001b[39;00m\n\u001b[1;32m      7\u001b[0m \u001b[39m**Identificação do registo**\u001b[39m\n\u001b[1;32m      8\u001b[0m \n\u001b[1;32m      9\u001b[0m \u001b[39m1. Localize o registo no \u001b[39m\u001b[39m\"\u001b[39m\u001b[39mÍndice de alunos da Universidade de Coimbra\u001b[39m\u001b[39m\"\u001b[39m\n\u001b[1;32m     10\u001b[0m \u001b[39m2. Anote o url do registo na linha abaixo\u001b[39m\n\u001b[1;32m     11\u001b[0m \n\u001b[1;32m     12\u001b[0m \u001b[39mhttps://pesquisa.auc.uc.pt/details?id=\u001b[39m\u001b[39m{\u001b[39;00m\u001b[39mid\u001b[39m\u001b[39m}\u001b[39;00m\n\u001b[0;32m---> 13\u001b[0m \u001b[39m{\u001b[39;00mname\u001b[39m}\u001b[39;00m\n\u001b[1;32m     14\u001b[0m \n\u001b[1;32m     15\u001b[0m \u001b[39m**Correção**\u001b[39m\n\u001b[1;32m     16\u001b[0m \n\u001b[1;32m     17\u001b[0m \u001b[39m{\u001b[39;00mchange\u001b[39m}\u001b[39;00m\n\u001b[1;32m     18\u001b[0m \n\u001b[1;32m     19\u001b[0m \u001b[39m-----\u001b[39m\n\u001b[1;32m     20\u001b[0m \n\u001b[1;32m     21\u001b[0m \u001b[39m **Não se esqueça de colocar o URL do registo no título**\u001b[39m\n\u001b[1;32m     22\u001b[0m \n\u001b[1;32m     23\u001b[0m \u001b[39m\"\"\"\u001b[39m\n\u001b[1;32m     25\u001b[0m \u001b[39mprint\u001b[39m(comments_table\u001b[39m.\u001b[39mc)\n\u001b[1;32m     26\u001b[0m stmt \u001b[39m=\u001b[39m select(comments_table\u001b[39m.\u001b[39mc\u001b[39m.\u001b[39mentity_id,comments_table\u001b[39m.\u001b[39mc\u001b[39m.\u001b[39mtitle,comments_table\u001b[39m.\u001b[39mc\u001b[39m.\u001b[39mtext)\u001b[39m.\u001b[39mwhere(comments_table\u001b[39m.\u001b[39mc\u001b[39m.\u001b[39mtitle\u001b[39m.\u001b[39mlike(\u001b[39m'\u001b[39m\u001b[39mCORRIGIR\u001b[39m\u001b[39m%\u001b[39m\u001b[39m'\u001b[39m))\n",
      "\u001b[0;31mNameError\u001b[0m: name 'name' is not defined"
     ]
    }
   ],
   "source": [
    "from sqlalchemy import select\n",
    "from ucalumni.aluno import get_aluno_from_db\n",
    "\n",
    "name=\"\"\n",
    "change=\"\"\n",
    " \n",
    "template_for_issue = f\"\"\" \n",
    "\n",
    "Title: Gralha no Registo: https://pesquisa.auc.uc.pt/details?id={id}\n",
    "**Identificação do registo**\n",
    "\n",
    "1. Localize o registo no \"Índice de alunos da Universidade de Coimbra\"\n",
    "2. Anote o url do registo na linha abaixo\n",
    "\n",
    "https://pesquisa.auc.uc.pt/details?id={id}\n",
    "{name}\n",
    "\n",
    "**Correção**\n",
    "\n",
    "{change}\n",
    "\n",
    "-----\n",
    "\n",
    " **Não se esqueça de colocar o URL do registo no título**\n",
    "\n",
    "\"\"\"\n",
    "\n",
    "print(comments_table.c)\n",
    "stmt = select(comments_table.c.entity_id,comments_table.c.title,comments_table.c.text).where(comments_table.c.title.like('CORRIGIR%'))\n",
    "with Session() as session:\n",
    "    result = session.execute(stmt)\n",
    "    for r in result:\n",
    "        aluno = get_aluno_from_db(r.entity_id,db_main)\n",
    "        name = aluno.nome\n",
    "        id = r.entity_id\n",
    "        title = r.title\n",
    "        change = r.text.split('\\n')\n",
    "        print(r.title)\n",
    "        print(template_for_issue)\n",
    "        print()\n",
    "       "
   ]
  },
  {
   "cell_type": "markdown",
   "metadata": {},
   "source": [
    "## Source files"
   ]
  },
  {
   "cell_type": "code",
   "execution_count": null,
   "metadata": {},
   "outputs": [],
   "source": [
    "from sqlalchemy import select\n",
    "from pathlib import Path\n",
    "\n",
    "from timelink.mhk.models.base import Source\n",
    "\n",
    "\n",
    "kleio_files = [f.stem for f in list(Path('../sources').rglob('*.cli'))]\n",
    "print(\"Number of kleio_files:\", len(kleio_files))\n",
    "\n",
    "stmt = select(Source.id,Source.updated)\n",
    "\n",
    "with Session() as session:\n",
    "    imported_sources = session.execute(stmt)\n",
    "    sources_in_db = [s.id for s in imported_sources]\n",
    "    print(\"Number of imported files:\",len(sources_in_db))\n",
    "    print(\"Files not in the database:\", len(set(kleio_files)-set(sources_in_db)))\n",
    "    for source in sorted(list(set(kleio_files)-set(sources_in_db))):\n",
    "        print(source,end=' ')\n",
    "    print()\n",
    "    print(\"Imported sources with no file found:\", len(set(sources_in_db)-set(kleio_files)))\n",
    "    for source in sorted(list(set(sources_in_db)-set(kleio_files))):\n",
    "        print(source,end=' ')\n",
    "    print()"
   ]
  }
 ],
 "metadata": {
  "kernelspec": {
   "display_name": "Python 3.9.6 64-bit ('3.9.6')",
   "language": "python",
   "name": "python3"
  },
  "language_info": {
   "codemirror_mode": {
    "name": "ipython",
    "version": 3
   },
   "file_extension": ".py",
   "mimetype": "text/x-python",
   "name": "python",
   "nbconvert_exporter": "python",
   "pygments_lexer": "ipython3",
   "version": "3.9.6"
  },
  "orig_nbformat": 4,
  "vscode": {
   "interpreter": {
    "hash": "5e0ea4420a573f75e62c9da893eee578da14dd1811a84166ea299fd82591eb6f"
   }
  }
 },
 "nbformat": 4,
 "nbformat_minor": 2
}
