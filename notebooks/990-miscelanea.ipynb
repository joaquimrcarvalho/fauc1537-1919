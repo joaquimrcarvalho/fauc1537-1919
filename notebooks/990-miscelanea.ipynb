{
 "cells": [
  {
   "cell_type": "markdown",
   "metadata": {},
   "source": [
    "# Converter datas pré gregorianas.\n",
    "\n",
    "\n",
    "Necessita de \n",
    "\n",
    "    pip install convertdate"
   ]
  },
  {
   "cell_type": "markdown",
   "metadata": {},
   "source": [
    "Exº Dehergne, entrada 628 Francisco Pérez \n",
    "\n",
    "\n",
    " [http://timelink.uc.pt/mhk/china/id/rp-87](http://timelink.uc.pt/mhk/china/id/rp-87)\n",
    "\n",
    " M. 12 févr. 1583 (ancien style) = 22 février (nouveau style de la réforme introduite à Rome en oct. 1582),"
   ]
  },
  {
   "cell_type": "code",
   "execution_count": 2,
   "metadata": {},
   "outputs": [
    {
     "data": {
      "text/plain": [
       "(1583, 2, 22)"
      ]
     },
     "execution_count": 2,
     "metadata": {},
     "output_type": "execute_result"
    }
   ],
   "source": [
    "from convertdate import julian\n",
    "from convertdate import gregorian\n",
    "\n",
    "julian.to_gregorian(1583,2,12)"
   ]
  },
  {
   "cell_type": "code",
   "execution_count": 11,
   "metadata": {},
   "outputs": [
    {
     "name": "stdout",
     "output_type": "stream",
     "text": [
      "(1582, 10, 4)\n",
      "(1582, 10, 15)\n"
     ]
    }
   ],
   "source": [
    "print(julian.to_gregorian(1582,9,24))\n",
    "print(julian.to_gregorian(1582,10,5))"
   ]
  },
  {
   "cell_type": "code",
   "execution_count": 14,
   "metadata": {},
   "outputs": [
    {
     "data": {
      "text/plain": [
       "[[None, None, None, None, None, 1, 2],\n",
       " [3, 4, 5, 6, 7, 8, 9],\n",
       " [10, 11, 12, 13, 14, 15, 16],\n",
       " [17, 18, 19, 20, 21, 22, 23],\n",
       " [24, 25, 26, 27, 28, 29, 30],\n",
       " [31, None, None, None, None, None]]"
      ]
     },
     "execution_count": 14,
     "metadata": {},
     "output_type": "execute_result"
    }
   ],
   "source": [
    "from convertdate import gregorian\n",
    "\n",
    "gregorian.monthcalendar(1582,10)"
   ]
  },
  {
   "cell_type": "markdown",
   "metadata": {},
   "source": [
    "# Testing mhk_users database"
   ]
  },
  {
   "cell_type": "code",
   "execution_count": 2,
   "metadata": {},
   "outputs": [
    {
     "name": "stdout",
     "output_type": "stream",
     "text": [
      "Connected to mhk_users\n"
     ]
    }
   ],
   "source": [
    "from timelink.mhk.utilities import get_connection_string, get_engine\n",
    "from sqlalchemy import MetaData, Table\n",
    "from sqlalchemy.orm import declarative_base, sessionmaker\n",
    "\n",
    "db = 'mhk_users'\n",
    "mhk_users = MetaData()\n",
    "Base = declarative_base()\n",
    "connection_string = get_connection_string(db)\n",
    "engine = get_engine(db)\n",
    "engine.echo = False     # set to False to prevent SQL logging\n",
    "Session = sessionmaker(bind=engine)\n",
    "comments_table = Table('comments', mhk_users, autoload_with=engine)\n",
    "users_table = Table('users', mhk_users, autoload_with=engine)\n",
    "print('Connected to',db)\n"
   ]
  },
  {
   "cell_type": "code",
   "execution_count": 20,
   "metadata": {},
   "outputs": [
    {
     "name": "stdout",
     "output_type": "stream",
     "text": [
      "ImmutableColumnCollection(comments.id, comments.db_name, comments.entity_id, comments.user_name, comments.user_ip, comments.email, comments.status, comments.title, comments.text, comments.created, comments.parent)\n",
      "CORRIGIR data final\n",
      "===================\n",
      "=             Id: 169434             C&oacute;digo de refer&ecirc;ncia:\n",
      "= PT/AUC/ELU/UC-AUC/B/001-001/M/004236              Nome        :\n",
      "= Lu&iacute;s Martins             Data inicial: 1538             Data\n",
      "= final  : 1552             Filia&ccedil;&atilde;o: Br&aacute;s Martins\n",
      "= Naturalidade: Cabe&ccedil;a de Vide             Faculdade:C&acirc;nones\n",
      "= Matr&iacute;cula(s): 1538             03.01.1540              Provas:\n",
      "= 03.08.1539             Provou Ouvir uma li&ccedil;&atilde;o em\n",
      "= C&acirc;nones 1551-1552\n",
      "\n",
      "CORRIGIR data final\n",
      "===================\n",
      "=             Id: 240217             C&oacute;digo de refer&ecirc;ncia:\n",
      "= PT/AUC/ELU/UC-AUC/B/001-001/F/000021              Nome        :\n",
      "= Ant&oacute;nio Fagundes (padre)             Data inicial: 1540-09-30\n",
      "= Data final  : 1551             Filia&ccedil;&atilde;o:\n",
      "= Naturalidade: Rubi&atilde;es (Viana do Castelo)             Faculdade:\n",
      "= C&acirc;nones              Matr&iacute;cula(s): 30.09.1540\n",
      "= Instituta:              Quatro cursos em C&acirc;nones, 19.07.1550\n",
      "= Provou um curso de Resid&ecirc;ncia em 1551\n",
      "\n",
      "CORRIGIR nota ao nome\n",
      "===================\n",
      "=             Id: 254460             C&oacute;digo de refer&ecirc;ncia:\n",
      "= PT/AUC/ELU/UC-AUC/B/001-001/L/005107              Nome        : Xavier\n",
      "= Lu&iacute;s, vida Silva             Data inicial: 1701-10-01\n",
      "= Data final  : 1707-06-28             Filia&ccedil;&atilde;o: Manuel\n",
      "= Lu&iacute;s             Naturalidade: Coimbra             Faculdade:\n",
      "= Medicina              Matr&iacute;cula(s): 01.10.1702\n",
      "= 01.10.1703             01.10.1704             01.10.1705\n",
      "= 08.10.1706              Instituta: 01.10.1701              1&ordf;\n",
      "= tentativa 14.06.1706             2&ordf; tentativa 19.07.1706\n",
      "= Formatura 06.06.1707             Aprova&ccedil;&atilde;o 28.06.1707\n",
      "\n"
     ]
    }
   ],
   "source": [
    "from sqlalchemy import select\n",
    "\n",
    "print(comments_table.c)\n",
    "stmt = select(comments_table.c.title,comments_table.c.text).where(comments_table.c.title.like('CORRIGIR%'))\n",
    "with Session() as session:\n",
    "    result = session.execute(stmt)\n",
    "    for r in result:\n",
    "        print(r.title)\n",
    "        print('===================')\n",
    "        for l in r.text.split('\\n'):\n",
    "            print('=',l)\n",
    "        print()\n",
    "       "
   ]
  },
  {
   "cell_type": "markdown",
   "metadata": {},
   "source": [
    "## Source files"
   ]
  },
  {
   "cell_type": "code",
   "execution_count": null,
   "metadata": {},
   "outputs": [],
   "source": [
    "from sqlalchemy import select\n",
    "from pathlib import Path\n",
    "\n",
    "from timelink.mhk.models.base import Source\n",
    "\n",
    "\n",
    "kleio_files = [f.stem for f in list(Path('../sources').rglob('*.cli'))]\n",
    "print(\"Number of kleio_files:\", len(kleio_files))\n",
    "\n",
    "stmt = select(Source.id,Source.updated)\n",
    "\n",
    "with Session() as session:\n",
    "    imported_sources = session.execute(stmt)\n",
    "    sources_in_db = [s.id for s in imported_sources]\n",
    "    print(\"Number of imported files:\",len(sources_in_db))\n",
    "    print(\"Files not in the database:\", len(set(kleio_files)-set(sources_in_db)))\n",
    "    for source in sorted(list(set(kleio_files)-set(sources_in_db))):\n",
    "        print(source,end=' ')\n",
    "    print()\n",
    "    print(\"Imported sources with no file found:\", len(set(sources_in_db)-set(kleio_files)))\n",
    "    for source in sorted(list(set(sources_in_db)-set(kleio_files))):\n",
    "        print(source,end=' ')\n",
    "    print()"
   ]
  }
 ],
 "metadata": {
  "interpreter": {
   "hash": "6912b689f53d123cf4e674f359f06a76b0d189d0d8bdb70b75e8dbb7e4821548"
  },
  "kernelspec": {
   "display_name": "Python 3.10.3 64-bit ('3.10.3')",
   "language": "python",
   "name": "python3"
  },
  "language_info": {
   "codemirror_mode": {
    "name": "ipython",
    "version": 3
   },
   "file_extension": ".py",
   "mimetype": "text/x-python",
   "name": "python",
   "nbconvert_exporter": "python",
   "pygments_lexer": "ipython3",
   "version": "3.10.3"
  },
  "orig_nbformat": 4
 },
 "nbformat": 4,
 "nbformat_minor": 2
}
