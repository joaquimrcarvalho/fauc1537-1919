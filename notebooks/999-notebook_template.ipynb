{
 "cells": [
  {
   "cell_type": "markdown",
   "metadata": {},
   "source": [
    "\n",
    "**[PT]** Português\n",
    "\n",
    "---\n",
    "\n",
    "**[EN]** English"
   ]
  },
  {
   "cell_type": "markdown",
   "metadata": {},
   "source": [
    "Usar esta base para criar um novo Bloco de Notas\n",
    "\n",
    "---\n",
    "\n",
    "Use this template for a new Notebook"
   ]
  },
  {
   "cell_type": "markdown",
   "metadata": {},
   "source": [
    "\n",
    "# Título\n",
    "\n",
    "\n",
    "[Sumário]\n",
    "\n",
    "---\n",
    "\n",
    "# Title\n",
    "\n",
    "[summary]\n"
   ]
  },
  {
   "cell_type": "markdown",
   "metadata": {},
   "source": [
    "---\n",
    "## Setup"
   ]
  },
  {
   "cell_type": "code",
   "execution_count": null,
   "metadata": {},
   "outputs": [],
   "source": [
    "from timelinknb import sqlite_databases, mhk_databases\n",
    "\n",
    "print(\"SQLite databases:\",sqlite_databases)"
   ]
  },
  {
   "cell_type": "code",
   "execution_count": null,
   "metadata": {},
   "outputs": [],
   "source": [
    "from timelinknb import current_time,current_machine, get_db\n",
    "from ucalumni.config import default_db\n",
    "\n",
    "db_spec = default_db\n",
    "db = get_db(db_spec)\n",
    "print(current_machine,current_time,f'db={db_spec}')"
   ]
  },
  {
   "cell_type": "markdown",
   "metadata": {},
   "source": [
    "\n",
    "# Obter dados\n",
    "---\n",
    "\n",
    "# Getting data"
   ]
  },
  {
   "cell_type": "markdown",
   "metadata": {},
   "source": [
    "\n",
    "\n",
    "###  Obter um dataframe a partir de atributos\n",
    "\n",
    "---\n",
    "\n",
    "\n",
    "###  Get a Dataframe from attributes\n"
   ]
  },
  {
   "cell_type": "code",
   "execution_count": null,
   "metadata": {},
   "outputs": [],
   "source": [
    "from timelinknb.pandas import attribute_to_df\n",
    "\n",
    "\n",
    "# Get list of people with with a certain value in a specific attribute\n",
    "df = attribute_to_df(\n",
    "                    the_type='naturalidade',\n",
    "                    the_value='Coimbra',\n",
    "                    person_info=True,\n",
    "                    more_cols=['faculdade','uc-entrada','uc-saida','grau'],\n",
    "                    sql_echo=False)\n",
    "df.info()"
   ]
  },
  {
   "cell_type": "code",
   "execution_count": null,
   "metadata": {},
   "outputs": [],
   "source": [
    "df.head(5)"
   ]
  },
  {
   "cell_type": "markdown",
   "metadata": {},
   "source": [
    "\n",
    "\n",
    "###  Remover colunas sem valores\n",
    "\n",
    "---\n",
    "\n",
    "\n",
    "\n",
    "###  Remove empty columns"
   ]
  },
  {
   "cell_type": "code",
   "execution_count": null,
   "metadata": {},
   "outputs": [],
   "source": [
    "df.dropna(how='all', axis=1, inplace=True)\n",
    "df.info()"
   ]
  },
  {
   "cell_type": "markdown",
   "metadata": {},
   "source": [
    "\n",
    "###  Remover as remissivas\n",
    "---\n",
    "\n",
    "###  Remove cross-references"
   ]
  },
  {
   "cell_type": "code",
   "execution_count": null,
   "metadata": {},
   "outputs": [],
   "source": [
    "no_crossref = df['uc-entrada'] != '0000-00-00'\n",
    "df = df[no_crossref]"
   ]
  },
  {
   "cell_type": "code",
   "execution_count": null,
   "metadata": {},
   "outputs": [],
   "source": [
    "view_cols = ['name','naturalidade','faculdade','grau','grau.date','uc-entrada','uc-saida']\n",
    "df[view_cols].head(10)"
   ]
  },
  {
   "cell_type": "markdown",
   "metadata": {},
   "source": [
    "\n",
    "## Contagens\n",
    "\n",
    "---\n",
    "\n",
    "## Counting\n"
   ]
  },
  {
   "cell_type": "markdown",
   "metadata": {},
   "source": [
    "\n",
    "###  Contagem de atributos a partir de uma tabela em memória\n",
    " \n",
    "---\n",
    "\n",
    "###  Count attributes from an existing dataframe\n",
    "\n"
   ]
  },
  {
   "cell_type": "code",
   "execution_count": null,
   "metadata": {},
   "outputs": [],
   "source": [
    "# create a column with the index values which are the id numbers\n",
    "df['id'] = df.index.values\n",
    "\n",
    "col = 'faculdade' # subotal by this column\n",
    "\n",
    "# Use pandas groupby and specify unique value count for id\n",
    "df_totals = df.groupby(col).agg({'id':'nunique',\n",
    "                                                  'uc-entrada':'min',\n",
    "                                                  'uc-saida':'max'})\n",
    "\n",
    "df_totals.sort_values('id',ascending= False).head(30)"
   ]
  },
  {
   "cell_type": "markdown",
   "metadata": {},
   "source": [
    " \n",
    "### Contagens a partir da base de dados\n",
    "\n",
    "Quando o atributo tem muitos valores e não é necessário\n",
    "ter todas as pessoas em memória: contagem feita na base de dados\n",
    "\n",
    "---\n",
    "\n",
    "### Counting directly in the database\n",
    "When there are many values and it is not \n",
    "necessary to have all the people in memory:\n",
    "count directly in the database.\n",
    "\n",
    "\n"
   ]
  },
  {
   "cell_type": "code",
   "execution_count": null,
   "metadata": {},
   "outputs": [],
   "source": [
    "from timelinknb.pandas import attribute_values\n",
    "\n",
    "df_totals = attribute_values('grau')\n"
   ]
  },
  {
   "cell_type": "code",
   "execution_count": null,
   "metadata": {},
   "outputs": [],
   "source": [
    "df_totals.head(10)\n"
   ]
  },
  {
   "cell_type": "markdown",
   "metadata": {},
   "source": [
    "Filtrar por datas\n",
    "\n",
    "Para evitar remissivas com data zero\n",
    "\n",
    "---\n",
    "\n",
    "Filter by dates \n",
    "\n",
    "Avoid cross-references with zero date"
   ]
  },
  {
   "cell_type": "code",
   "execution_count": null,
   "metadata": {},
   "outputs": [],
   "source": [
    "df_totals = attribute_values('grau',dates_in=('1535','1919'))"
   ]
  },
  {
   "cell_type": "code",
   "execution_count": null,
   "metadata": {},
   "outputs": [],
   "source": [
    "df_totals.head(10)"
   ]
  },
  {
   "cell_type": "markdown",
   "metadata": {},
   "source": [
    "## Visualizar registos\n",
    "\n",
    "---\n",
    "\n",
    "## View records\n",
    "\n",
    "\n",
    "\n"
   ]
  },
  {
   "cell_type": "markdown",
   "metadata": {},
   "source": [
    "### Visualizar uma pessoa\n",
    "\n",
    "---\n",
    "\n",
    "### View a person\n"
   ]
  },
  {
   "cell_type": "markdown",
   "metadata": {},
   "source": [
    "#### Atributos de uma pessoa em table\n",
    "\n",
    "---\n",
    "\n",
    "#### Person attributes in a dataframe"
   ]
  },
  {
   "cell_type": "code",
   "execution_count": null,
   "metadata": {},
   "outputs": [],
   "source": [
    "import pandas as pd\n",
    "\n",
    "pd.set_option('display.max_rows',1000)\n",
    "\n",
    "from timelinknb.pandas import group_attributes as person_attributes\n",
    "\n",
    "id = '316297'\n",
    "\n",
    "pdf = person_attributes([id])\n",
    "pdf[['date','type','value','attr_obs']].sort_values('date')"
   ]
  },
  {
   "cell_type": "markdown",
   "metadata": {},
   "source": [
    "Ordenado por atributo, data\n",
    "\n",
    "---\n",
    "\n",
    "Order by attribute, date"
   ]
  },
  {
   "cell_type": "code",
   "execution_count": null,
   "metadata": {},
   "outputs": [],
   "source": [
    "pdf[['type','date','value','attr_obs']].sort_values(['type','date'])"
   ]
  },
  {
   "cell_type": "markdown",
   "metadata": {},
   "source": [
    "## **[PT]**\n",
    "\n",
    "Dicas comuns"
   ]
  },
  {
   "cell_type": "code",
   "execution_count": null,
   "metadata": {},
   "outputs": [],
   "source": [
    "pd.set_option('display.max_rows',1000)\n",
    "result_df = df.drop_duplicates(subset=['Column1', 'Column2'], keep='first')"
   ]
  }
 ],
 "metadata": {
  "interpreter": {
   "hash": "6912b689f53d123cf4e674f359f06a76b0d189d0d8bdb70b75e8dbb7e4821548"
  },
  "kernelspec": {
   "display_name": "Python 3.10.3 64-bit ('3.10.3')",
   "language": "python",
   "name": "python3"
  },
  "language_info": {
   "codemirror_mode": {
    "name": "ipython",
    "version": 3
   },
   "file_extension": ".py",
   "mimetype": "text/x-python",
   "name": "python",
   "nbconvert_exporter": "python",
   "pygments_lexer": "ipython3",
   "version": "3.10.3"
  },
  "orig_nbformat": 4
 },
 "nbformat": 4,
 "nbformat_minor": 2
}
