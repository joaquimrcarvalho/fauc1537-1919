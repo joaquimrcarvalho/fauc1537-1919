{
 "cells": [
  {
   "cell_type": "markdown",
   "metadata": {},
   "source": [
    "> _First time use of the `notebooks`: follow instructions in the `README.md` file in this directory._"
   ]
  },
  {
   "cell_type": "markdown",
   "metadata": {},
   "source": [
    "**[PT]** Português\n",
    "\n",
    "--- \n",
    "\n",
    "**[EN]** English\n",
    "\n",
    "\n",
    "\n",
    "# Conversão do \"Ficheiro de alunos\"\n",
    "\n",
    "\n",
    "\n",
    "---\n",
    "\n",
    "# Convertion of the \"Ficheiro de alunos\"\n",
    "\n",
    "This notebook processes a file exported from the \"Ficheiro de alunos\" in CSV format (command separated values), \n",
    "converting it in `Kleio` source files or importing directly into a `Timelink` database.\n",
    "\n",
    "* For detailed information on the contents of the CSV file and the processing methodolgy see [README_ucalumni.md](README_ucalumni.md)\n",
    "* For information on the `Kleio` format see [README_kleio.md](README_kleio.md).\n",
    "* For the structure of the `Timelink` database see [README_timelink_db.md](README_timelink_db.md)\n"
   ]
  },
  {
   "cell_type": "markdown",
   "metadata": {},
   "source": [
    "## Converter a partir do terminal\n",
    "\n",
    "Usar o utilitário `import-alumni.py`, a partir da directoria raiz do repositório `fauc1537-1919`.\n",
    "\n",
    "---\n",
    "\n",
    "## Converting from a terminal window\n",
    "\n",
    "Use the utility `import-alumni.py`, from whithin the repository top level directory `fauc1537-1919`.\n",
    "\n"
   ]
  },
  {
   "cell_type": "markdown",
   "metadata": {},
   "source": [
    "```console\n",
    "\n",
    "    python notebooks/import-alumni.py --help "
   ]
  },
  {
   "cell_type": "markdown",
   "metadata": {},
   "source": [
    "Exemplo de conversão a partir de uma exportação em `database/auc/PT-AUC-ELU-UC-AUC-B-001-001.CSV`\n",
    "\n",
    "---\n",
    "\n",
    "Example of converting from an export file at  `database/auc/PT-AUC-ELU-UC-AUC-B-001-001.CSV`"
   ]
  },
  {
   "cell_type": "markdown",
   "metadata": {},
   "source": [
    "```console\n",
    "\n",
    "    python notebooks/import-alumni.py database/auc/2023-12-28-PT-AUC-ELU-UC-AUC-B-001-001.csv \\\n",
    "        database/sqlite3\\\n",
    "        --db-connection \"sqlite:///database/sqlite3/fauc.db?check_same_thread=False\"\\\n",
    "        --rows 0 \\\n",
    "        --batch 500 \\\n",
    "        --no-dryrun"
   ]
  },
  {
   "cell_type": "markdown",
   "metadata": {},
   "source": [
    "## Converter a partir deste bloco de notas\n",
    "\n",
    "Conversão neste bloco de notas na célula seguinte.\n",
    "\n",
    "Não fechar  o bloco de notas durante o processo, que pode demorar várias horas.\n",
    "\n",
    "---\n",
    "\n",
    "## Converting from this notebook\n",
    "\n",
    "Convert from within this notebook in the next cell.\n",
    "\n",
    "Do not close the notebook during the conversion, which might take several hours.\n",
    "\n"
   ]
  },
  {
   "cell_type": "code",
   "execution_count": null,
   "metadata": {},
   "outputs": [
    {
     "name": "stdout",
     "output_type": "stream",
     "text": [
      "Current dir (should end with 'notebooks'): /Users/jrc/mhk-home/sources/ucprosop/ucprosop/notebooks\n"
     ]
    }
   ],
   "source": [
    "from ucalumni.importer import import_auc_alumni\n",
    "from ucalumni.aluno import Aluno\n",
    "from ucalumni import extractors\n",
    "from ucalumni import mapping\n",
    "import os\n",
    "\n",
    "cwd = os.getcwd()\n",
    "print(\"Current dir (should end in 'notebooks'):\",cwd)\n",
    "catalog = '../database/auc/PT-AUC-ELU-UC-AUC-B-001-001.CSV'\n",
    "destdir = '../database/sqlite3' # destination directory for database file (sqlite only)\n",
    "                         # connection string for direct import to database\n",
    "con_string = f\"sqlite:///{destdir}/fauc.db?check_same_thread=False\"\n",
    "# This will store the connection string for other notebooks\n",
    "# To retrieve the in another notebook use %store -r con_string\n",
    "%store con_string\n",
    "rows= 0                 # stop after rows, 0 to process everything\n",
    "batch = 100            # number of alumni per kleio file\n",
    "dryrun = False           # if true do not write, just output in notebook\n",
    "echo   = False           # if true each row in csv file will be printed in notebook\n",
    "\n",
    "import_auc_alumni(  catalog,\n",
    "                    destdir,\n",
    "                    con_string,\n",
    "                    rows,\n",
    "                    batch,\n",
    "                    dryrun,\n",
    "                    echo\n",
    "                    )"
   ]
  },
  {
   "cell_type": "markdown",
   "metadata": {},
   "source": [
    "## Verificar o primeiro e último estudante\n",
    "\n",
    "---\n",
    "\n",
    "## Check first and last student\n",
    "\n"
   ]
  },
  {
   "cell_type": "code",
   "execution_count": 2,
   "metadata": {},
   "outputs": [
    {
     "name": "stdout",
     "output_type": "stream",
     "text": [
      "140337 António Pinto Abadeço 2022-06-10 01:35:55.802017\n",
      "196220 Vasco de Oliveira Zuzarte 2022-06-10 07:51:46.108991\n"
     ]
    },
    {
     "name": "stderr",
     "output_type": "stream",
     "text": [
      "/tmp/ipykernel_3870542/181597555.py:15: DeprecationWarning: This method is deprecated, use get_engine()\n",
      "  Session.configure(bind=db.engine())\n"
     ]
    }
   ],
   "source": [
    "from sqlalchemy import select,desc\n",
    "from sqlalchemy.orm import sessionmaker\n",
    "from timelink.mhk.models import base\n",
    "from timelink.mhk.models.person import Person\n",
    "from timelink.mhk.models.db import TimelinkDB, SQLALCHEMY_ECHO\n",
    "\n",
    "\n",
    "Session = sessionmaker()\n",
    "\n",
    "connection_string=\"sqlite:///../database/sqlite3/fauc.db?check_same_thread=False\"\n",
    "\n",
    "SQLALCHEMY_ECHO = True\n",
    "db = TimelinkDB(connection_string)\n",
    "\n",
    "Session.configure(bind=db.engine())\n",
    "\n",
    "stmt = select(Person).order_by(Person.updated).limit(1)\n",
    "with Session() as session:\n",
    "    first = session.execute(stmt).scalar()\n",
    "    print(first.id,first.name,first.updated)\n",
    "\n",
    "stmt = select(Person).order_by(desc(Person.updated)).limit(1)\n",
    "with Session() as session:\n",
    "    last = session.execute(stmt).scalar()\n",
    "    print(last.id,last.name, last.updated)\n"
   ]
  },
  {
   "cell_type": "markdown",
   "metadata": {},
   "source": [
    "## Gerar ficheiros Kleio para posterior importação em Timelink/MHK\n",
    "\n",
    "Esta modalidade produz ficheiros na notação `Kleio`.  \n",
    "\n",
    "Embora exija um posterior passo de tradução e conversão, tem a vantagem de produzir \n",
    "uma representação dos dados num formato legível, de fácil permuta e conservação. \n",
    "\n",
    "Executar a célula seguinte converte o ficheiro de alunos para ficheiros `Kleio`, com 500 alunos em cada ficheiro.\n",
    "\n",
    "Os ficheiros têm de ser posteriormente traduzidos e importados em Timelink/MHK.\n",
    "\n",
    "---\n",
    "\n",
    "## Generate Kleio for import to Timelink/MHK\n",
    "\n",
    "This variant produces files in `Kleio` notation.\n",
    "\n",
    "Although it requires extras steps for translation and import, it has the\n",
    "advantage of producing an interpretation of the catalog in a readable format\n",
    "easy to exchange and preserve.\n",
    "\n",
    "Executing the next cell with process the FA export in to `Kleio` files, 500 students per file.\n",
    "\n",
    "The files must be translated and imported the Timelink/MHK at a later stage."
   ]
  },
  {
   "cell_type": "code",
   "execution_count": 5,
   "metadata": {},
   "outputs": [
    {
     "name": "stdout",
     "output_type": "stream",
     "text": [
      "Rows processed: 100\n",
      "Rows processed: 200\n",
      "Rows processed: 300\n",
      "Rows processed: 400\n",
      "-- New batch: maximum number of processed rows reached\n",
      "-- TERMINATING PROCESSING\n",
      "--  fonte: lista-264605-00002\n",
      "--  lista: A\n",
      "--  aluno: Francisco Maria Monteiro de Abreu\n",
      "Starting to write to file  ../sources/A/lista-A-00002.cli 2023-03-22 03:50:18.515856\n",
      "Finish writing to file 2023-03-22 03:50:20.604781\n"
     ]
    }
   ],
   "source": [
    "from ucalumni.importer import import_auc_alumni\n",
    "from ucalumni.aluno import Aluno\n",
    "from ucalumni import extractors\n",
    "from ucalumni import mapping\n",
    "\n",
    "catalog = '../database/other_exports/ficheiro-alunos-auc/PT-AUC-ELU-UC-AUC-B-001-001.CSV'\n",
    "destdir = '../sources/' # destination directory for Kleio files\n",
    "con_string = None         # connection string for direct import to database\n",
    "rows= 500                 # stop after rows, 0 to process everything\n",
    "nalumni = 500            # limit of alumni per kleio file\n",
    "dryrun = False           # if true do not write, just output in notebook\n",
    "echo   = False           # if true each row in csv file will be printed in notebook\n",
    "import_auc_alumni(  catalog,\n",
    "                    destdir,\n",
    "                    con_string,\n",
    "                    rows,\n",
    "                    nalumni,\n",
    "                    dryrun,\n",
    "                    echo\n",
    "                    )"
   ]
  }
 ],
 "metadata": {
  "interpreter": {
   "hash": "6912b689f53d123cf4e674f359f06a76b0d189d0d8bdb70b75e8dbb7e4821548"
  },
  "kernelspec": {
   "display_name": "Python 3.10.3 64-bit ('3.10.3')",
   "language": "python",
   "name": "python3"
  },
  "language_info": {
   "codemirror_mode": {
    "name": "ipython",
    "version": 3
   },
   "file_extension": ".py",
   "mimetype": "text/x-python",
   "name": "python",
   "nbconvert_exporter": "python",
   "pygments_lexer": "ipython3",
   "version": "3.9.6"
  },
  "orig_nbformat": 4
 },
 "nbformat": 4,
 "nbformat_minor": 2
}
