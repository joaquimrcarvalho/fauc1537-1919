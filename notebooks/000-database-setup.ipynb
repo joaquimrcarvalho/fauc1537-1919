{
 "cells": [
  {
   "cell_type": "markdown",
   "metadata": {},
   "source": [
    "**[PT]** Português\n",
    "\n",
    "---\n",
    "\n",
    "**[EN]** English\n",
    "\n"
   ]
  },
  {
   "cell_type": "markdown",
   "metadata": {},
   "source": [
    "## Criar base de dados com \"interpretação\" do FA\n",
    "\n",
    "... TBD\n",
    "\n",
    "## Creating a database com an \"interpretation\" of the FA \n",
    "      \n",
    "\n",
    ".. TBD"
   ]
  }
 ],
 "metadata": {
  "interpreter": {
   "hash": "6912b689f53d123cf4e674f359f06a76b0d189d0d8bdb70b75e8dbb7e4821548"
  },
  "kernelspec": {
   "display_name": "Python 3.10.3 64-bit ('3.10.3')",
   "language": "python",
   "name": "python3"
  },
  "language_info": {
   "codemirror_mode": {
    "name": "ipython",
    "version": 3
   },
   "file_extension": ".py",
   "mimetype": "text/x-python",
   "name": "python",
   "nbconvert_exporter": "python",
   "pygments_lexer": "ipython3",
   "version": "3.10.3"
  },
  "orig_nbformat": 4
 },
 "nbformat": 4,
 "nbformat_minor": 2
}
