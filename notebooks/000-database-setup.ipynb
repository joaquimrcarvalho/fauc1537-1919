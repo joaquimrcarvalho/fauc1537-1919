{
 "cells": [
  {
   "cell_type": "markdown",
   "metadata": {},
   "source": [
    "> _First time use of the `notebooks`: follow instructions in the [README.md](README.md) file in this directory._"
   ]
  },
  {
   "cell_type": "markdown",
   "metadata": {},
   "source": [
    "**[PT]** Português\n",
    "\n",
    "---\n",
    "\n",
    "**[EN]** English\n",
    "\n"
   ]
  },
  {
   "cell_type": "markdown",
   "metadata": {},
   "source": [
    "## Criar a base de dados de teste.\n",
    "\n",
    "Para criar uma base de dados de teste é necessário \n",
    "obter uma exportação a partir do repositório em\n",
    "\n",
    "https://github.com/joaquimrcarvalho/fauc1537-1919/releases\n",
    "\n",
    "Instruções:\n",
    "\n",
    "1. Transfira o ficheiro `fauc-sql-latest.zip` em https://github.com/joaquimrcarvalho/fauc1537-1919/releases\n",
    "   para a pasta `databases/sqlite3` (crie a pasta se não existir)\n",
    "3. Descomprima o arquivo. Deve obter um ficheiro de nome começado por `fauc` e terminado em `.sql` \n",
    "4. Garanta que não tem mais ficheiros do mesmo tipo nessa pasta.\n",
    "5. Garanta que não tem já uma base de dados `fauc.db` nessa directoria. Se tiver remova, ou renomeie.\n",
    "6. Execute as duas célula seguintes. Esteja atento às mensagens.\n",
    "\n",
    "Se ocorreu algum erro veja métodos alternativos em https://github.com/joaquimrcarvalho/fauc1537-1919/releases\n",
    "\n",
    "---\n",
    "\n",
    "\n",
    "## Creating a test database.\n",
    "\n",
    "To create a test database it is necessary to obtain \n",
    "an export file from the repository at\n",
    "\n",
    "https://github.com/joaquimrcarvalho/fauc1537-1919/releases\n",
    "\n",
    "Steps:\n",
    "1. Transfer the archive `fauc-sql-latest.zip` from https://github.com/joaquimrcarvalho/fauc1537-1919/releases\n",
    "   to the folder `databases/sqlite3` (create the folder if it does not exist).\n",
    "3. Unzip the archive. You should obtain a file started with `fauc` and ending in `.sql` \n",
    "4. Ensure you do not have more files with similar names.\n",
    "5. Ensure that no previous database named `fauc.db` exists in that folder.\n",
    "6. Run the next two code cells. Pay attention to the messages.\n",
    "\n",
    "If something went wrong check alternate methods at https://github.com/joaquimrcarvalho/fauc1537-1919/releases\n",
    "\n"
   ]
  },
  {
   "cell_type": "code",
   "execution_count": 1,
   "metadata": {},
   "outputs": [
    {
     "name": "stdout",
     "output_type": "stream",
     "text": [
      "Destination database fauc.db exists in ../database/sqlite3/.\n",
      "Delete, rename or move before importing new data.\n"
     ]
    }
   ],
   "source": [
    "# https://stackoverflow.com/questions/4719159/python-and-sqlite3-importing-and-exporting-databases\n",
    "\n",
    "import os\n",
    "from pathlib import Path\n",
    "import sqlite3\n",
    "\n",
    "db_dir = '../database/sqlite3/'  # end with slash\n",
    "db_name = 'fauc.db'\n",
    "\n",
    "path_to_db = db_dir+db_name\n",
    "db_file = Path(path_to_db)\n",
    "\n",
    "# ensure the directory exists.\n",
    "if db_dir > '':\n",
    "    Path(db_dir).mkdir(parents=True, exist_ok=True)\n",
    "\n",
    "# collect files with names like 'fauc*.sql'    \n",
    "files = [file for file in os.listdir(db_dir) if file.endswith('.sql') and file.startswith('fauc')]\n",
    "\n",
    "\n",
    "# check files\n",
    "error = False\n",
    "if len(files) == 0:\n",
    "    print(\"No db export files found. Get an export from https://github.com/joaquimrcarvalho/fauc1537-1919/releases\") \n",
    "    error = True   \n",
    "if len(files) > 1:\n",
    "    print(\"Cannot choose file: only one file starting with 'fauc' and ending with '.sql' in directory please.\")\n",
    "    error = True\n",
    "if db_file.is_file():\n",
    "    # file exists\n",
    "    print(f\"Destination database {db_name} exists in {db_dir}.\")\n",
    "    print(f\"Delete, rename or move before importing new data.\")\n",
    "    error = True\n",
    "\n",
    "if error is False:\n",
    "    print(\"Ready to import from:\",files)"
   ]
  },
  {
   "cell_type": "markdown",
   "metadata": {},
   "source": [
    "Import `fauc` database\n",
    "\n"
   ]
  },
  {
   "cell_type": "code",
   "execution_count": 2,
   "metadata": {},
   "outputs": [
    {
     "name": "stdout",
     "output_type": "stream",
     "text": [
      "Importing from fauc_2022-05-17_16-45-48.sql. This will take a while...\n",
      "Import finished.\n"
     ]
    }
   ],
   "source": [
    "if error is False:\n",
    "    path_to_import_file = db_dir+files[0]\n",
    "    con = sqlite3.connect(path_to_db)\n",
    "    print(f\"Importing from {files[0]}. This will take a while...\")\n",
    "    try:\n",
    "        with open(path_to_import_file,'r',encoding='utf-8') as f:\n",
    "            script=f.read()\n",
    "            con.executescript(script)\n",
    "            print(\"Import finished.\")\n",
    "    except MemoryError:\n",
    "        print(\"Out of memory. You must import from the command line.\")\n",
    "        print(\"See instructions at https://github.com/joaquimrcarvalho/fauc1537-1919/releases\")\n"
   ]
  },
  {
   "cell_type": "markdown",
   "metadata": {},
   "source": [
    "## Criar uma cópia de segurança da base de dados\n",
    "\n",
    "Se alterar a base de dados e necessitar de \n",
    "uma cópia, a célula seguinte cria uma exportação \n",
    "que pode ser importada posteriormente.\n",
    "\n",
    "\n",
    "---\n",
    "\n",
    "## Create a backup copy of the database\n",
    "\n",
    "If you change the database and need a copy\n",
    "the following code cell will create an export file\n",
    " that can be imported latter.\n",
    "\n",
    "\n"
   ]
  },
  {
   "cell_type": "code",
   "execution_count": 2,
   "metadata": {},
   "outputs": [
    {
     "name": "stdout",
     "output_type": "stream",
     "text": [
      "Exporting ../database/sqlite3/fauc.db to ../database/sqlite3//fauc_2022-05-17_16-45-48.sql\n",
      "Export finished\n"
     ]
    }
   ],
   "source": [
    "# https://stackoverflow.com/questions/4719159/python-and-sqlite3-importing-and-exporting-databases\n",
    "\n",
    "from timelinknb import current_time\n",
    "import sqlite3\n",
    "\n",
    "db_dir = '../database/sqlite3/'\n",
    "db_name = 'fauc.db'\n",
    "path_to_db = db_dir+db_name\n",
    "\n",
    "fname = f'{db_dir}fauc_{current_time:%Y-%m-%d_%H-%M-%S}.sql'\n",
    "\n",
    "print(f\"Exporting {path_to_db} to {fname}\")\n",
    "\n",
    "con = sqlite3.connect(path_to_db)\n",
    "with open(fname,'w') as f:\n",
    "    for line in con.iterdump():\n",
    "        f.write('%s\\n' % line)\n",
    "print(\"Export finished\")\n"
   ]
  }
 ],
 "metadata": {
  "kernelspec": {
   "display_name": "Python 3.10.0 64-bit ('3.10.0')",
   "language": "python",
   "name": "python3"
  },
  "language_info": {
   "codemirror_mode": {
    "name": "ipython",
    "version": 3
   },
   "file_extension": ".py",
   "mimetype": "text/x-python",
   "name": "python",
   "nbconvert_exporter": "python",
   "pygments_lexer": "ipython3",
   "version": "3.10.0"
  },
  "orig_nbformat": 4,
  "vscode": {
   "interpreter": {
    "hash": "7304d886b43bb16e1a749ddd24e8b445d5532b2d22684f2d7b9b246951a5e8a4"
   }
  }
 },
 "nbformat": 4,
 "nbformat_minor": 2
}
