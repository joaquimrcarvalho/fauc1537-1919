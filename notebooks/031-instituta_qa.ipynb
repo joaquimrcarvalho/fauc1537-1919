{
 "cells": [
  {
   "cell_type": "markdown",
   "metadata": {},
   "source": [
    "# Validação do campo \"Instituta\"\n",
    "\n",
    "\n",
    "\n",
    "Para criar uma versão `html` sem o código fonte, fazer, na directoria \"notebooks\":\n",
    "\n",
    "    jupyter nbconvert instituta_clean.ipynb --to html --no-input\n",
    "\n"
   ]
  },
  {
   "cell_type": "code",
   "execution_count": 4,
   "metadata": {},
   "outputs": [
    {
     "name": "stdout",
     "output_type": "stream",
     "text": [
      "Connected to ucprosop\n"
     ]
    }
   ],
   "source": [
    "from timelink.mhk.utilities import get_engine, get_dbnames, get_connection_string\n",
    "from sqlalchemy import engine, text, MetaData\n",
    "from sqlalchemy import MetaData,Table, Column, String, ForeignKey\n",
    "from sqlalchemy.orm import declarative_base, relationship, sessionmaker\n",
    "mhk = MetaData()\n",
    "db = 'ucprosop'\n",
    "connection_string = get_connection_string(db)\n",
    "engine = get_engine(db)\n",
    "Session = sessionmaker(bind=engine)\n",
    "session = Session()\n",
    "nattr_table = Table('nattributes', mhk, autoload_with=engine)\n",
    "print('Connected to',db)"
   ]
  },
  {
   "cell_type": "markdown",
   "metadata": {},
   "source": [
    "## Registos de \"instituta\" anteriores a 1537 ou posteriores a 1772"
   ]
  },
  {
   "cell_type": "code",
   "execution_count": 5,
   "metadata": {},
   "outputs": [
    {
     "name": "stdout",
     "output_type": "stream",
     "text": [
      "1017-00-00   Manuel Rodrigues Caldeira                                        https://pesquisa.auc.uc.pt/details?id=129578\n",
      "1017-01-01   António José Ribeiro                                             https://pesquisa.auc.uc.pt/details?id=154491\n",
      "1075-00-00   Miguel Bento Fernandes de Andrade                                https://pesquisa.auc.uc.pt/details?id=146525\n",
      "1162-10-17   Francisco Pessoa Sampaio                                         https://pesquisa.auc.uc.pt/details?id=214901\n",
      "1171-00-00   José Ferreira Rosa                                               https://pesquisa.auc.uc.pt/details?id=228409\n",
      "1470-10-01   José Antunes Cardoso                                             https://pesquisa.auc.uc.pt/details?id=135469\n",
      "1501-10-15   João Cardoso                                                     https://pesquisa.auc.uc.pt/details?id=134750\n",
      "1509-10-13   Manuel Gaspar                                                    https://pesquisa.auc.uc.pt/details?id=177610\n",
      "1773-10-23   António José de Sousa Sampaio                                    https://pesquisa.auc.uc.pt/details?id=214457\n",
      "1776-01-07   José de Almeida Sousa e Sá                                       https://pesquisa.auc.uc.pt/details?id=212063\n",
      "1781-10-01   Manuel da Costa Gil                                              https://pesquisa.auc.uc.pt/details?id=177773\n",
      "1781-10-11   Manuel Calisto de Sousa Belo                                     https://pesquisa.auc.uc.pt/details?id=185281\n",
      "1785-10-30   José Inácio de Almeida                                           https://pesquisa.auc.uc.pt/details?id=143600\n",
      "1786-10-31   Teodoro Ferreira de Aguiar                                       https://pesquisa.auc.uc.pt/details?id=141653\n",
      "1790-10-29   Francisco Manuel Berardo de Melo Castro e Mendonça               https://pesquisa.auc.uc.pt/details?id=215439\n",
      "1791-10-06   Francisco Manuel Berardo de Melo Castro e Mendonça               https://pesquisa.auc.uc.pt/details?id=215439\n",
      "1795-10-01   João Simões                                                      https://pesquisa.auc.uc.pt/details?id=231265\n",
      "1796-10-01   Bento Moreira de Sampaio                                         https://pesquisa.auc.uc.pt/details?id=214574\n",
      "1798-10-15   Clemente José de Mendonça                                        https://pesquisa.auc.uc.pt/details?id=215132\n",
      "1798-11-15   João Carlos de Figueiredo                                        https://pesquisa.auc.uc.pt/details?id=135902\n",
      "1799-10-02   Clemente José de Mendonça                                        https://pesquisa.auc.uc.pt/details?id=215132\n",
      "1803-10-08   Francisco de Sampaio                                             https://pesquisa.auc.uc.pt/details?id=214818\n",
      "1804-10-03   Jerónimo José Soares                                             https://pesquisa.auc.uc.pt/details?id=232271\n",
      "1804-10-03   Joaquim Vitorino da Silva                                        https://pesquisa.auc.uc.pt/details?id=227565\n",
      "1805-10-07   Francisco Cabral Soares de Albergaria                            https://pesquisa.auc.uc.pt/details?id=233215\n",
      "1805-10-31   João Cardoso de Sousa Pinto                                      https://pesquisa.auc.uc.pt/details?id=242568\n",
      "1807-10-14   José Batista Gastão                                              https://pesquisa.auc.uc.pt/details?id=177643\n",
      "1815-10-23   Francisco Machado                                                https://pesquisa.auc.uc.pt/details?id=181828\n",
      "1816-10-31   António Pinto de Carvalho                                        https://pesquisa.auc.uc.pt/details?id=153471\n",
      "1817-10-17   Adriano José Jacob                                               https://pesquisa.auc.uc.pt/details?id=191804\n",
      "1819-10-22   António Joaquim de Oliveira                                      https://pesquisa.auc.uc.pt/details?id=174485\n",
      "1839-10-07   Manuel António Vieira Xavier                                     https://pesquisa.auc.uc.pt/details?id=195711\n",
      "1843-10-30   Emídio Gomes Seco                                                https://pesquisa.auc.uc.pt/details?id=221751\n",
      "1846-10-01   Francisco Manuel de Mendonça                                     https://pesquisa.auc.uc.pt/details?id=215432\n",
      "1854-10-03   José Pinto Tavares Ferrão                                        https://pesquisa.auc.uc.pt/details?id=248467\n",
      "1854-10-03   José Ferreira Rodrigues de Figueira                              https://pesquisa.auc.uc.pt/details?id=131781\n",
      "1859-10-11   Manuel Osório Gonçalves                                          https://pesquisa.auc.uc.pt/details?id=179725\n",
      "1861-10-03   Henrique de Queirós Pinto Ataide                                 https://pesquisa.auc.uc.pt/details?id=272116\n",
      "1868-10-01   Tomás Luís Osório                                                https://pesquisa.auc.uc.pt/details?id=176897\n",
      "1868-10-15   Joaquim Teotónio Teixeira Duarte                                 https://pesquisa.auc.uc.pt/details?id=164309\n",
      "1886-10-15   Gustavo Adolfo de Liz Teixeira da Cruz                           https://pesquisa.auc.uc.pt/details?id=207992\n",
      "1887-01-09   António Rodrigues Zuzarte                                        https://pesquisa.auc.uc.pt/details?id=196024\n",
      "1887-10-03   Domingos Carneiro de Oliveira Pacheco                            https://pesquisa.auc.uc.pt/details?id=207259\n",
      "1887-10-14   Adelino Adélio dos Santos                                        https://pesquisa.auc.uc.pt/details?id=219095\n",
      "1890-10-14   João Maria de Albuquerque de Azevedo Coutinho                    https://pesquisa.auc.uc.pt/details?id=205976\n",
      "1895-10-14   Miguel de Moura Maldonado                                        https://pesquisa.auc.uc.pt/details?id=183595\n",
      "1899-10-06   Guilherme Augusto Coelho                                         https://pesquisa.auc.uc.pt/details?id=193878\n",
      "1902-10-04   Aristides de Sousa Mendes                                        https://pesquisa.auc.uc.pt/details?id=205462\n",
      "1907-10-15   Gil Peixoto de Mendonça                                          https://pesquisa.auc.uc.pt/details?id=215495\n",
      "1908-10-02   Luciano Monte de Alverne de Sequeira                             https://pesquisa.auc.uc.pt/details?id=222945\n",
      "1991-10-01   José da Costa da Fonseca                                         https://pesquisa.auc.uc.pt/details?id=156048\n",
      "2010-00-00   João de Gouveia                                                  https://pesquisa.auc.uc.pt/details?id=180051\n",
      "2710-00-00   Nicolau Tavares                                                  https://pesquisa.auc.uc.pt/details?id=198519\n"
     ]
    }
   ],
   "source": [
    "from sqlalchemy import select,distinct,func,desc, and_, or_\n",
    "\n",
    "stmt = select(nattr_table.c.id,nattr_table.c.name, nattr_table.c.the_date, nattr_table.c.pobs).distinct().\\\n",
    "        where(\n",
    "                and_(nattr_table.c.the_type == 'instituta', \n",
    "                     or_(nattr_table.c.the_value > '1772-99-99',\n",
    "                     nattr_table.c.the_value < '1537-00-00'))).\\\n",
    "        order_by(nattr_table.c.the_date)\n",
    "\n",
    "result = session.execute(stmt)\n",
    "for row in result:\n",
    "    id_link=  f'<a href=\"https://pesquisa.auc.uc.pt/details?id={row.id}\">{row.id}</a>'\n",
    "    print(f'{row.the_date:12} {row.name:64} https://pesquisa.auc.uc.pt/details?id={row.id}')\n"
   ]
  },
  {
   "cell_type": "code",
   "execution_count": null,
   "metadata": {},
   "outputs": [],
   "source": []
  }
 ],
 "metadata": {
  "interpreter": {
   "hash": "5e0ea4420a573f75e62c9da893eee578da14dd1811a84166ea299fd82591eb6f"
  },
  "kernelspec": {
   "display_name": "Python 3.9.6 64-bit ('3.9.6': pyenv)",
   "language": "python",
   "name": "python3"
  },
  "language_info": {
   "codemirror_mode": {
    "name": "ipython",
    "version": 3
   },
   "file_extension": ".py",
   "mimetype": "text/x-python",
   "name": "python",
   "nbconvert_exporter": "python",
   "pygments_lexer": "ipython3",
   "version": "3.9.6"
  },
  "orig_nbformat": 4
 },
 "nbformat": 4,
 "nbformat_minor": 2
}
